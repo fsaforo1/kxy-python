{
 "cells": [
  {
   "cell_type": "markdown",
   "metadata": {},
   "source": [
    "# How To Anonymize Your Regression Data\n",
    "We show how to anonymize your data and illustrate that this has no impact on performance using the Census Income UCI dataset. We use the UCI Yacht Hydrodynamics dataset."
   ]
  },
  {
   "cell_type": "code",
   "execution_count": 1,
   "metadata": {},
   "outputs": [],
   "source": [
    "%load_ext autoreload\n",
    "%autoreload 2\n",
    "import warnings\n",
    "warnings.filterwarnings('ignore')\n",
    "\n",
    "# Required imports\n",
    "import pandas as pd\n",
    "import kxy"
   ]
  },
  {
   "cell_type": "code",
   "execution_count": 2,
   "metadata": {},
   "outputs": [],
   "source": [
    "df = pd.read_csv('http://archive.ics.uci.edu/ml/machine-learning-databases/'\\\n",
    "                 '00243/yacht_hydrodynamics.data', sep='[ ]{1,2}',\\\n",
    "                 names=['Longitudinal Position', 'Prismatic Coeefficient',\\\n",
    "                        'Length-Displacement', 'Beam-Draught Ratio',\\\n",
    "                        'Length-Beam Ratio', 'Froude Number',\\\n",
    "                        'Residuary Resistance'])\n",
    "df.rename(columns={col: col.title() for col in df.columns}, inplace=True)"
   ]
  },
  {
   "cell_type": "markdown",
   "metadata": {},
   "source": [
    "## The Data"
   ]
  },
  {
   "cell_type": "code",
   "execution_count": 3,
   "metadata": {},
   "outputs": [
    {
     "name": "stdout",
     "output_type": "stream",
     "text": [
      "       \n",
      "--------------------------\n",
      "Column: Beam-Draught Ratio\n",
      "--------------------------\n",
      "Type:   Continuous\n",
      "Max:    5.3\n",
      "p75:    4.2\n",
      "Mean:   3.9\n",
      "Median: 4.0\n",
      "p25:    3.8\n",
      "Min:    2.8\n",
      "       \n",
      "---------------------\n",
      "Column: Froude Number\n",
      "---------------------\n",
      "Type:   Continuous\n",
      "Max:    0.5\n",
      "p75:    0.4\n",
      "Mean:   0.3\n",
      "Median: 0.3\n",
      "p25:    0.2\n",
      "Min:    0.1\n",
      "       \n",
      "-------------------------\n",
      "Column: Length-Beam Ratio\n",
      "-------------------------\n",
      "Type:   Continuous\n",
      "Max:    3.6\n",
      "p75:    3.5\n",
      "Mean:   3.2\n",
      "Median: 3.1\n",
      "p25:    3.1\n",
      "Min:    2.7\n",
      "       \n",
      "---------------------------\n",
      "Column: Length-Displacement\n",
      "---------------------------\n",
      "Type:   Continuous\n",
      "Max:    5.1\n",
      "p75:    5.1\n",
      "Mean:   4.8\n",
      "Median: 4.8\n",
      "p25:    4.8\n",
      "Min:    4.3\n",
      "       \n",
      "-----------------------------\n",
      "Column: Longitudinal Position\n",
      "-----------------------------\n",
      "Type:   Continuous\n",
      "Max:    0.0\n",
      "p75:    -2.3\n",
      "Mean:   -2.4\n",
      "Median: -2.3\n",
      "p25:    -2.4\n",
      "Min:    -5.0\n",
      "       \n",
      "------------------------------\n",
      "Column: Prismatic Coeefficient\n",
      "------------------------------\n",
      "Type:   Continuous\n",
      "Max:    0.6\n",
      "p75:    0.6\n",
      "Mean:   0.6\n",
      "Median: 0.6\n",
      "p25:    0.5\n",
      "Min:    0.5\n",
      "       \n",
      "----------------------------\n",
      "Column: Residuary Resistance\n",
      "----------------------------\n",
      "Type:   Continuous\n",
      "Max:    62\n",
      "p75:    12\n",
      "Mean:   10\n",
      "Median: 3.1\n",
      "p25:    0.8\n",
      "Min:    0.0\n"
     ]
    }
   ],
   "source": [
    "df.kxy.describe()"
   ]
  },
  {
   "cell_type": "markdown",
   "metadata": {},
   "source": [
    "## The Anonymized Data"
   ]
  },
  {
   "cell_type": "code",
   "execution_count": 4,
   "metadata": {},
   "outputs": [
    {
     "name": "stdout",
     "output_type": "stream",
     "text": [
      "       \n",
      "--------------------------\n",
      "Column: Beam-Draught Ratio\n",
      "--------------------------\n",
      "Type:   Continuous\n",
      "Max:    308\n",
      "p75:    231\n",
      "Mean:   154\n",
      "Median: 154\n",
      "p25:    77\n",
      "Min:    1.0\n",
      "       \n",
      "---------------------\n",
      "Column: Froude Number\n",
      "---------------------\n",
      "Type:   Continuous\n",
      "Max:    308\n",
      "p75:    231\n",
      "Mean:   154\n",
      "Median: 154\n",
      "p25:    77\n",
      "Min:    1.0\n",
      "       \n",
      "-------------------------\n",
      "Column: Length-Beam Ratio\n",
      "-------------------------\n",
      "Type:   Continuous\n",
      "Max:    308\n",
      "p75:    231\n",
      "Mean:   154\n",
      "Median: 154\n",
      "p25:    77\n",
      "Min:    1.0\n",
      "       \n",
      "---------------------------\n",
      "Column: Length-Displacement\n",
      "---------------------------\n",
      "Type:   Continuous\n",
      "Max:    308\n",
      "p75:    231\n",
      "Mean:   154\n",
      "Median: 154\n",
      "p25:    77\n",
      "Min:    1.0\n",
      "       \n",
      "-----------------------------\n",
      "Column: Longitudinal Position\n",
      "-----------------------------\n",
      "Type:   Continuous\n",
      "Max:    308\n",
      "p75:    231\n",
      "Mean:   154\n",
      "Median: 154\n",
      "p25:    77\n",
      "Min:    1.0\n",
      "       \n",
      "------------------------------\n",
      "Column: Prismatic Coeefficient\n",
      "------------------------------\n",
      "Type:   Continuous\n",
      "Max:    308\n",
      "p75:    231\n",
      "Mean:   154\n",
      "Median: 154\n",
      "p25:    77\n",
      "Min:    1.0\n",
      "       \n",
      "----------------------------\n",
      "Column: Residuary Resistance\n",
      "----------------------------\n",
      "Type:   Continuous\n",
      "Max:    62\n",
      "p75:    12\n",
      "Mean:   10\n",
      "Median: 3.1\n",
      "p25:    0.8\n",
      "Min:    0.0\n"
     ]
    }
   ],
   "source": [
    "anon_df = df.kxy.anonymize(columns_to_exclude=['Residuary Resistance'])\n",
    "anon_df.kxy.describe()"
   ]
  },
  {
   "cell_type": "markdown",
   "metadata": {},
   "source": [
    "## Comparing Variable Selection With and Without Anonymization"
   ]
  },
  {
   "cell_type": "markdown",
   "metadata": {},
   "source": [
    "### Model-Free Variable Selection With Clear Data"
   ]
  },
  {
   "cell_type": "code",
   "execution_count": 5,
   "metadata": {},
   "outputs": [
    {
     "name": "stdout",
     "output_type": "stream",
     "text": [
      "[====================================================================================================] 100% ETA: 0s   \n"
     ]
    },
    {
     "data": {
      "text/html": [
       "<div>\n",
       "<style scoped>\n",
       "    .dataframe tbody tr th:only-of-type {\n",
       "        vertical-align: middle;\n",
       "    }\n",
       "\n",
       "    .dataframe tbody tr th {\n",
       "        vertical-align: top;\n",
       "    }\n",
       "\n",
       "    .dataframe thead th {\n",
       "        text-align: right;\n",
       "    }\n",
       "</style>\n",
       "<table border=\"1\" class=\"dataframe\">\n",
       "  <thead>\n",
       "    <tr style=\"text-align: right;\">\n",
       "      <th></th>\n",
       "      <th>Variable</th>\n",
       "      <th>Running Achievable R-Squared</th>\n",
       "      <th>Running Achievable RMSE</th>\n",
       "    </tr>\n",
       "    <tr>\n",
       "      <th>Selection Order</th>\n",
       "      <th></th>\n",
       "      <th></th>\n",
       "      <th></th>\n",
       "    </tr>\n",
       "  </thead>\n",
       "  <tbody>\n",
       "    <tr>\n",
       "      <th>1</th>\n",
       "      <td>Froude Number</td>\n",
       "      <td>0.99</td>\n",
       "      <td>1.66</td>\n",
       "    </tr>\n",
       "    <tr>\n",
       "      <th>2</th>\n",
       "      <td>Beam-Draught Ratio</td>\n",
       "      <td>0.99</td>\n",
       "      <td>1.62</td>\n",
       "    </tr>\n",
       "    <tr>\n",
       "      <th>3</th>\n",
       "      <td>Length-Displacement</td>\n",
       "      <td>0.99</td>\n",
       "      <td>1.60</td>\n",
       "    </tr>\n",
       "    <tr>\n",
       "      <th>4</th>\n",
       "      <td>Longitudinal Position</td>\n",
       "      <td>0.99</td>\n",
       "      <td>1.59</td>\n",
       "    </tr>\n",
       "    <tr>\n",
       "      <th>5</th>\n",
       "      <td>Length-Beam Ratio</td>\n",
       "      <td>0.99</td>\n",
       "      <td>1.58</td>\n",
       "    </tr>\n",
       "    <tr>\n",
       "      <th>6</th>\n",
       "      <td>Prismatic Coeefficient</td>\n",
       "      <td>0.99</td>\n",
       "      <td>1.58</td>\n",
       "    </tr>\n",
       "  </tbody>\n",
       "</table>\n",
       "</div>"
      ],
      "text/plain": [
       "                               Variable Running Achievable R-Squared  \\\n",
       "Selection Order                                                        \n",
       "1                         Froude Number                         0.99   \n",
       "2                    Beam-Draught Ratio                         0.99   \n",
       "3                   Length-Displacement                         0.99   \n",
       "4                 Longitudinal Position                         0.99   \n",
       "5                     Length-Beam Ratio                         0.99   \n",
       "6                Prismatic Coeefficient                         0.99   \n",
       "\n",
       "                Running Achievable RMSE  \n",
       "Selection Order                          \n",
       "1                                  1.66  \n",
       "2                                  1.62  \n",
       "3                                  1.60  \n",
       "4                                  1.59  \n",
       "5                                  1.58  \n",
       "6                                  1.58  "
      ]
     },
     "execution_count": 5,
     "metadata": {},
     "output_type": "execute_result"
    }
   ],
   "source": [
    "df.kxy.variable_selection('Residuary Resistance', problem_type='regression')"
   ]
  },
  {
   "cell_type": "markdown",
   "metadata": {},
   "source": [
    "#### Column Meaning\n",
    "\n",
    "* `Selection Order`: Order in which variables (see `Variable`) are selected, from the most important to the least important. The first variable selected is the one with the highest mutual information with the label (i.e. that is the most useful when used in isolation). The $(i+1)$-th variable selected is the variable, among all variables not yet selected, that complements all $i$ variables previously selected the most\n",
    "* `Running Achievable R-Squared`: The highest $R^2$ achievable by a model using all variables selected so far to predict the label.\n",
    "* `Running Achievable RMSE`: The lowest Root Mean Square Error achievable by a model using all variables selected so far to predict the label."
   ]
  },
  {
   "cell_type": "markdown",
   "metadata": {},
   "source": [
    "### Model-Free Variable Selection With Anonymized Data"
   ]
  },
  {
   "cell_type": "code",
   "execution_count": 6,
   "metadata": {},
   "outputs": [
    {
     "name": "stdout",
     "output_type": "stream",
     "text": [
      "[====================================================================================================] 100% ETA: 0s   \n"
     ]
    },
    {
     "data": {
      "text/html": [
       "<div>\n",
       "<style scoped>\n",
       "    .dataframe tbody tr th:only-of-type {\n",
       "        vertical-align: middle;\n",
       "    }\n",
       "\n",
       "    .dataframe tbody tr th {\n",
       "        vertical-align: top;\n",
       "    }\n",
       "\n",
       "    .dataframe thead th {\n",
       "        text-align: right;\n",
       "    }\n",
       "</style>\n",
       "<table border=\"1\" class=\"dataframe\">\n",
       "  <thead>\n",
       "    <tr style=\"text-align: right;\">\n",
       "      <th></th>\n",
       "      <th>Variable</th>\n",
       "      <th>Running Achievable R-Squared</th>\n",
       "      <th>Running Achievable RMSE</th>\n",
       "    </tr>\n",
       "    <tr>\n",
       "      <th>Selection Order</th>\n",
       "      <th></th>\n",
       "      <th></th>\n",
       "      <th></th>\n",
       "    </tr>\n",
       "  </thead>\n",
       "  <tbody>\n",
       "    <tr>\n",
       "      <th>1</th>\n",
       "      <td>Froude Number</td>\n",
       "      <td>0.99</td>\n",
       "      <td>1.66</td>\n",
       "    </tr>\n",
       "    <tr>\n",
       "      <th>2</th>\n",
       "      <td>Beam-Draught Ratio</td>\n",
       "      <td>0.99</td>\n",
       "      <td>1.62</td>\n",
       "    </tr>\n",
       "    <tr>\n",
       "      <th>3</th>\n",
       "      <td>Length-Displacement</td>\n",
       "      <td>0.99</td>\n",
       "      <td>1.60</td>\n",
       "    </tr>\n",
       "    <tr>\n",
       "      <th>4</th>\n",
       "      <td>Longitudinal Position</td>\n",
       "      <td>0.99</td>\n",
       "      <td>1.59</td>\n",
       "    </tr>\n",
       "    <tr>\n",
       "      <th>5</th>\n",
       "      <td>Length-Beam Ratio</td>\n",
       "      <td>0.99</td>\n",
       "      <td>1.58</td>\n",
       "    </tr>\n",
       "    <tr>\n",
       "      <th>6</th>\n",
       "      <td>Prismatic Coeefficient</td>\n",
       "      <td>0.99</td>\n",
       "      <td>1.58</td>\n",
       "    </tr>\n",
       "  </tbody>\n",
       "</table>\n",
       "</div>"
      ],
      "text/plain": [
       "                               Variable Running Achievable R-Squared  \\\n",
       "Selection Order                                                        \n",
       "1                         Froude Number                         0.99   \n",
       "2                    Beam-Draught Ratio                         0.99   \n",
       "3                   Length-Displacement                         0.99   \n",
       "4                 Longitudinal Position                         0.99   \n",
       "5                     Length-Beam Ratio                         0.99   \n",
       "6                Prismatic Coeefficient                         0.99   \n",
       "\n",
       "                Running Achievable RMSE  \n",
       "Selection Order                          \n",
       "1                                  1.66  \n",
       "2                                  1.62  \n",
       "3                                  1.60  \n",
       "4                                  1.59  \n",
       "5                                  1.58  \n",
       "6                                  1.58  "
      ]
     },
     "execution_count": 6,
     "metadata": {},
     "output_type": "execute_result"
    }
   ],
   "source": [
    "anon_df.kxy.variable_selection('Residuary Resistance', problem_type='regression')"
   ]
  }
 ],
 "metadata": {
  "kernelspec": {
   "display_name": "kxy",
   "language": "python",
   "name": "kxy"
  },
  "language_info": {
   "codemirror_mode": {
    "name": "ipython",
    "version": 3
   },
   "file_extension": ".py",
   "mimetype": "text/x-python",
   "name": "python",
   "nbconvert_exporter": "python",
   "pygments_lexer": "ipython3",
   "version": "3.7.7"
  }
 },
 "nbformat": 4,
 "nbformat_minor": 4
}
