{
 "cells": [
  {
   "cell_type": "markdown",
   "metadata": {},
   "source": [
    "# Regression Problem With Some Useless Variables\n",
    "In this tutorial we go through a regression problem with a moderate number of explanatory variables (6) that are not equally insightful. \n",
    "\n",
    "We run the variable selection analysis of the `kxy` package and confirm it empirically. We then show that our empirical findings are consistent with the data-driven improvability analysis of the `kxy` package.\n",
    "\n",
    "We use the UCI Yacht Hydrodynamics dataset."
   ]
  },
  {
   "cell_type": "code",
   "execution_count": 1,
   "metadata": {},
   "outputs": [],
   "source": [
    "%load_ext autoreload\n",
    "%autoreload 2\n",
    "import os\n",
    "os.environ[\"NUMEXPR_MAX_THREADS\"] = '8'\n",
    "import warnings\n",
    "warnings.filterwarnings('ignore')\n",
    "\n",
    "# Required imports\n",
    "import pandas as pd\n",
    "import kxy"
   ]
  },
  {
   "cell_type": "code",
   "execution_count": 2,
   "metadata": {},
   "outputs": [],
   "source": [
    "df = pd.read_csv('http://archive.ics.uci.edu/ml/machine-learning-databases/'\\\n",
    "                 '00243/yacht_hydrodynamics.data', sep='[ ]{1,2}',\\\n",
    "                 names=['Longitudinal Position', 'Prismatic Coeefficient',\\\n",
    "                        'Length-Displacement', 'Beam-Draught Ratio',\\\n",
    "                        'Length-Beam Ratio', 'Froude Number',\\\n",
    "                        'Residuary Resistance'])\n",
    "df.rename(columns={col: col.title() for col in df.columns}, inplace=True)"
   ]
  },
  {
   "cell_type": "markdown",
   "metadata": {},
   "source": [
    "## Variable Selection\n",
    "### Analysis"
   ]
  },
  {
   "cell_type": "code",
   "execution_count": 3,
   "metadata": {},
   "outputs": [
    {
     "name": "stdout",
     "output_type": "stream",
     "text": [
      "[====================================================================================================] 100% ETA: 0s   \n"
     ]
    }
   ],
   "source": [
    "var_selection_analysis = df.kxy.variable_selection('Residuary Resistance', problem_type='regression')"
   ]
  },
  {
   "cell_type": "code",
   "execution_count": 4,
   "metadata": {},
   "outputs": [
    {
     "data": {
      "text/html": [
       "<div>\n",
       "<style scoped>\n",
       "    .dataframe tbody tr th:only-of-type {\n",
       "        vertical-align: middle;\n",
       "    }\n",
       "\n",
       "    .dataframe tbody tr th {\n",
       "        vertical-align: top;\n",
       "    }\n",
       "\n",
       "    .dataframe thead th {\n",
       "        text-align: right;\n",
       "    }\n",
       "</style>\n",
       "<table border=\"1\" class=\"dataframe\">\n",
       "  <thead>\n",
       "    <tr style=\"text-align: right;\">\n",
       "      <th></th>\n",
       "      <th>Variable</th>\n",
       "      <th>Running Achievable R-Squared</th>\n",
       "      <th>Running Achievable RMSE</th>\n",
       "    </tr>\n",
       "    <tr>\n",
       "      <th>Selection Order</th>\n",
       "      <th></th>\n",
       "      <th></th>\n",
       "      <th></th>\n",
       "    </tr>\n",
       "  </thead>\n",
       "  <tbody>\n",
       "    <tr>\n",
       "      <th>1</th>\n",
       "      <td>Froude Number</td>\n",
       "      <td>0.99</td>\n",
       "      <td>1.66</td>\n",
       "    </tr>\n",
       "    <tr>\n",
       "      <th>2</th>\n",
       "      <td>Beam-Draught Ratio</td>\n",
       "      <td>0.99</td>\n",
       "      <td>1.62</td>\n",
       "    </tr>\n",
       "    <tr>\n",
       "      <th>3</th>\n",
       "      <td>Length-Displacement</td>\n",
       "      <td>0.99</td>\n",
       "      <td>1.60</td>\n",
       "    </tr>\n",
       "    <tr>\n",
       "      <th>4</th>\n",
       "      <td>Longitudinal Position</td>\n",
       "      <td>0.99</td>\n",
       "      <td>1.59</td>\n",
       "    </tr>\n",
       "    <tr>\n",
       "      <th>5</th>\n",
       "      <td>Length-Beam Ratio</td>\n",
       "      <td>0.99</td>\n",
       "      <td>1.58</td>\n",
       "    </tr>\n",
       "    <tr>\n",
       "      <th>6</th>\n",
       "      <td>Prismatic Coeefficient</td>\n",
       "      <td>0.99</td>\n",
       "      <td>1.58</td>\n",
       "    </tr>\n",
       "  </tbody>\n",
       "</table>\n",
       "</div>"
      ],
      "text/plain": [
       "                               Variable Running Achievable R-Squared  \\\n",
       "Selection Order                                                        \n",
       "1                         Froude Number                         0.99   \n",
       "2                    Beam-Draught Ratio                         0.99   \n",
       "3                   Length-Displacement                         0.99   \n",
       "4                 Longitudinal Position                         0.99   \n",
       "5                     Length-Beam Ratio                         0.99   \n",
       "6                Prismatic Coeefficient                         0.99   \n",
       "\n",
       "                Running Achievable RMSE  \n",
       "Selection Order                          \n",
       "1                                  1.66  \n",
       "2                                  1.62  \n",
       "3                                  1.60  \n",
       "4                                  1.59  \n",
       "5                                  1.58  \n",
       "6                                  1.58  "
      ]
     },
     "execution_count": 4,
     "metadata": {},
     "output_type": "execute_result"
    }
   ],
   "source": [
    "var_selection_analysis"
   ]
  },
  {
   "cell_type": "markdown",
   "metadata": {},
   "source": [
    "#### Column Meaning\n",
    "\n",
    "* `Selection Order`: Order in which variables (see `Variable`) are selected, from the most important to the least important. The first variable selected is the one with the highest mutual information with the label (i.e. that is the most useful when used in isolation). The $(i+1)$-th variable selected is the variable, among all variables not yet selected, that complements all $i$ variables previously selected the most\n",
    "* `Running Achievable R-Squared`: The highest $R^2$ achievable by a model using all variables selected so far to predict the label.\n",
    "* `Running Achievable RMSE`: The lowest Root Mean Square Error achievable by a model using all variables selected so far to predict the label."
   ]
  },
  {
   "cell_type": "markdown",
   "metadata": {},
   "source": [
    "### Validation\n",
    "It seems that `Froude Number` is by far the most relevant variable and an almost perfect $R^2$ may be achieved. Let's try to confirm this visually."
   ]
  },
  {
   "cell_type": "code",
   "execution_count": 5,
   "metadata": {},
   "outputs": [
    {
     "data": {
      "image/png": "[encoded data removed]",
      "text/plain": [
       "<Figure size 720x720 with 1 Axes>"
      ]
     },
     "metadata": {
      "needs_background": "light"
     },
     "output_type": "display_data"
    }
   ],
   "source": [
    "import pylab as plt\n",
    "fig, ax = plt.subplots(1, 1, figsize=(10, 10))\n",
    "df[['Residuary Resistance', 'Froude Number']].plot(ax=ax, x='Froude Number',\\\n",
    "            y='Residuary Resistance', kind='scatter')\n",
    "plt.show()"
   ]
  },
  {
   "cell_type": "markdown",
   "metadata": {},
   "source": [
    "## Data-Driven Improvability\n",
    "The variable selection analysis suggests that the other 4 variables do not add much value. Let's try to confirm this with our data-driven improvability analysis."
   ]
  },
  {
   "cell_type": "code",
   "execution_count": 6,
   "metadata": {},
   "outputs": [
    {
     "name": "stdout",
     "output_type": "stream",
     "text": [
      "[====================================================================================================] 100% ETA: 0s   \n"
     ]
    },
    {
     "data": {
      "text/html": [
       "<div>\n",
       "<style scoped>\n",
       "    .dataframe tbody tr th:only-of-type {\n",
       "        vertical-align: middle;\n",
       "    }\n",
       "\n",
       "    .dataframe tbody tr th {\n",
       "        vertical-align: top;\n",
       "    }\n",
       "\n",
       "    .dataframe thead th {\n",
       "        text-align: right;\n",
       "    }\n",
       "</style>\n",
       "<table border=\"1\" class=\"dataframe\">\n",
       "  <thead>\n",
       "    <tr style=\"text-align: right;\">\n",
       "      <th></th>\n",
       "      <th>R-Squared Boost</th>\n",
       "      <th>Log-Likelihood Per Sample Boost</th>\n",
       "      <th>RMSE Reduction</th>\n",
       "    </tr>\n",
       "  </thead>\n",
       "  <tbody>\n",
       "    <tr>\n",
       "      <th>0</th>\n",
       "      <td>0.00</td>\n",
       "      <td>0.00</td>\n",
       "      <td>0.00</td>\n",
       "    </tr>\n",
       "  </tbody>\n",
       "</table>\n",
       "</div>"
      ],
      "text/plain": [
       "  R-Squared Boost Log-Likelihood Per Sample Boost RMSE Reduction\n",
       "0            0.00                            0.00           0.00"
      ]
     },
     "execution_count": 6,
     "metadata": {},
     "output_type": "execute_result"
    }
   ],
   "source": [
    "new_variables = ['Beam-Draught Ratio',\\\n",
    "    'Length-Displacement', 'Longitudinal Position', \\\n",
    "    'Length-Beam Ratio', 'Prismatic Coeefficient']\n",
    "df.kxy.data_driven_improvability('Residuary Resistance', new_variables, problem_type='regression')"
   ]
  },
  {
   "cell_type": "markdown",
   "metadata": {},
   "source": [
    "As it turns out, our data-driven improvability analysis does indeed suggest that the other 4 variables add negligible value."
   ]
  },
  {
   "cell_type": "markdown",
   "metadata": {},
   "source": [
    "## Model-Driven Improvability\n",
    "Let's train a couple models using `Froude Number` as the only explanatory variable and run our model-driven improvability analysis. We begin with a simple linear model.\n",
    "\n",
    "### Case I: Linear Regression"
   ]
  },
  {
   "cell_type": "code",
   "execution_count": 7,
   "metadata": {},
   "outputs": [
    {
     "data": {
      "text/plain": [
       "'Linear Regression Out-Of-Sample R^2: 0.65'"
      ]
     },
     "execution_count": 7,
     "metadata": {},
     "output_type": "execute_result"
    }
   ],
   "source": [
    "# Learning (Basic Linear Regression)\n",
    "from sklearn.linear_model import LinearRegression\n",
    "# Training\n",
    "label_column = 'Residuary Resistance'\n",
    "prediction_column = 'Prediction'\n",
    "train_size = 200\n",
    "df_ = df.copy()\n",
    "df_ = df_.sample(frac=1, random_state=0) # Shuffle rows\n",
    "train_df = df.iloc[:train_size]\n",
    "x_train = train_df[['Froude Number']].values\n",
    "y_train = train_df[label_column].values\n",
    "model = LinearRegression().fit(x_train, y_train)\n",
    "\n",
    "# Testing\n",
    "test_df = df.iloc[train_size:]\n",
    "x_test = test_df[['Froude Number']].values\n",
    "y_test = test_df[label_column].values\n",
    "\n",
    "# Out-of-sample predictions\n",
    "predictions = model.predict(x_test)\n",
    "lr_test_df = test_df.copy()\n",
    "lr_test_df[prediction_column] = predictions\n",
    "\n",
    "# Out-of-sample accuracy (R^2)\n",
    "'Linear Regression Out-Of-Sample R^2: %.2f' % (model.score(x_test, y_test))"
   ]
  },
  {
   "cell_type": "code",
   "execution_count": 8,
   "metadata": {},
   "outputs": [
    {
     "data": {
      "image/png": "[encoded data removed]",
      "text/plain": [
       "<Figure size 1440x720 with 2 Axes>"
      ]
     },
     "metadata": {
      "needs_background": "light"
     },
     "output_type": "display_data"
    }
   ],
   "source": [
    "fig, axes = plt.subplots(1, 2, figsize=(20, 10))\n",
    "lr_test_df[['Prediction', 'Froude Number']].plot(\\\n",
    "        ax=axes[0], x='Froude Number', y='Prediction', \\\n",
    "        color='r')\n",
    "lr_test_df[['Residuary Resistance', 'Froude Number']].plot(\\\n",
    "        ax=axes[0], x='Froude Number', y='Residuary Resistance', \\\n",
    "        kind='scatter')\n",
    "lr_test_df['Residuals'] = lr_test_df['Residuary Resistance']-lr_test_df['Prediction']\n",
    "lr_test_df[['Residuals', 'Froude Number']].plot(\\\n",
    "        ax=axes[1], x='Froude Number', y='Residuals', \\\n",
    "        kind='scatter', label='Residuals (Linear Regression)', color='k')\n",
    "axes[0].legend(['Predictions (Linear Regression)', 'True'])\n",
    "plt.show()"
   ]
  },
  {
   "cell_type": "code",
   "execution_count": 9,
   "metadata": {},
   "outputs": [
    {
     "name": "stdout",
     "output_type": "stream",
     "text": [
      "[====================================================================================================] 100% ETA: 0s   \n"
     ]
    },
    {
     "data": {
      "text/html": [
       "<div>\n",
       "<style scoped>\n",
       "    .dataframe tbody tr th:only-of-type {\n",
       "        vertical-align: middle;\n",
       "    }\n",
       "\n",
       "    .dataframe tbody tr th {\n",
       "        vertical-align: top;\n",
       "    }\n",
       "\n",
       "    .dataframe thead th {\n",
       "        text-align: right;\n",
       "    }\n",
       "</style>\n",
       "<table border=\"1\" class=\"dataframe\">\n",
       "  <thead>\n",
       "    <tr style=\"text-align: right;\">\n",
       "      <th></th>\n",
       "      <th>Lost R-Squared</th>\n",
       "      <th>Lost Log-Likelihood Per Sample</th>\n",
       "      <th>Lost RMSE</th>\n",
       "      <th>Residual R-Squared</th>\n",
       "      <th>Residual Log-Likelihood Per Sample</th>\n",
       "      <th>Residual RMSE</th>\n",
       "    </tr>\n",
       "  </thead>\n",
       "  <tbody>\n",
       "    <tr>\n",
       "      <th>0</th>\n",
       "      <td>0.00</td>\n",
       "      <td>0.00</td>\n",
       "      <td>0.00</td>\n",
       "      <td>0.98</td>\n",
       "      <td>-1.73</td>\n",
       "      <td>1.40</td>\n",
       "    </tr>\n",
       "  </tbody>\n",
       "</table>\n",
       "</div>"
      ],
      "text/plain": [
       "  Lost R-Squared Lost Log-Likelihood Per Sample Lost RMSE Residual R-Squared  \\\n",
       "0           0.00                           0.00      0.00               0.98   \n",
       "\n",
       "  Residual Log-Likelihood Per Sample Residual RMSE  \n",
       "0                              -1.73          1.40  "
      ]
     },
     "execution_count": 9,
     "metadata": {},
     "output_type": "execute_result"
    }
   ],
   "source": [
    "lr_test_df[['Froude Number', 'Residuary Resistance', 'Prediction']].kxy\\\n",
    "    .model_driven_improvability(label_column, prediction_column, \\\n",
    "        problem_type='regression')"
   ]
  },
  {
   "cell_type": "markdown",
   "metadata": {},
   "source": [
    "### Interpretation \n",
    "*Lost performance metrics* represent the performance that was irreversibly lost while training the moodel. When the model's prediction function is in a 1-to-1 relationship with the input, nothing can be lost during training as the effect of training can be *undone*. \n",
    "\n",
    "Indeed, if a poor model has 1-to-1 prediction function $x \\to g(x)$, and the best model has prediction function $x \\to f(x)$, then we may always achieve optimal performance from $z=g(x)$ by simply using the model with prediction function $z \\to f\\left(g^{-1}(z)\\right)$. Note however that the prediction function of a trained model can only be 1-to-1 when the input is 1D, otherwise the trained model will irreversibly lose information about the input distribution.\n",
    "\n",
    "In the case of our trained 1D linear regression model, the prediction function is 1-to-1 and, as such, the training process is lossless. Once more, the analysis from the `kxy` package matches our expectation.\n",
    "\n",
    "*Residual performance metrics* represent the performance that may be achieved when using explanatory variables to explain regression residuals. In other words, they represent how much **juice** is still left in regression residuals. The more juice is extracted by the trained model, the less juice will be left in residuals. For these residual performance metrics to be 0, the learned model needs to be truly optimal. \n",
    "\n",
    "The `kxy` model-driven improvability analysis suggests that residuals of the trained linear regression model can be predicted almost perfectly using `Froude Number`, which is consistent with the residuals plot above.\n"
   ]
  },
  {
   "cell_type": "markdown",
   "metadata": {},
   "source": [
    "### Case 2: Gaussian Process Regression\n",
    "Next we try Gaussian Proceess regression to capture non-linearities. We use the RBF kernel with fixed input scale 1.0 and output scale 10."
   ]
  },
  {
   "cell_type": "code",
   "execution_count": 10,
   "metadata": {},
   "outputs": [
    {
     "data": {
      "text/plain": [
       "'Gaussian Process Regression Out-Of-Sample R^2: 0.98'"
      ]
     },
     "execution_count": 10,
     "metadata": {},
     "output_type": "execute_result"
    }
   ],
   "source": [
    "from sklearn.gaussian_process import GaussianProcessRegressor\n",
    "from sklearn.gaussian_process.kernels import RBF\n",
    "\n",
    "x_train = train_df[['Froude Number']].values\n",
    "y_train = train_df[label_column].values\n",
    "\n",
    "x_test = test_df[['Froude Number']].values\n",
    "y_test = test_df[label_column].values\n",
    "\n",
    "# Fit\n",
    "gp_model = GaussianProcessRegressor(10.0 * RBF(1.0))\n",
    "gp_model.fit(x_train, y_train)\n",
    "\n",
    "# Out-of-sample predictions\n",
    "gp_test_df = test_df.copy()\n",
    "gp_test_df[prediction_column] = gp_model.predict(x_test)\n",
    "\n",
    "# Out-of-sample accuracy (R^2)\n",
    "'Gaussian Process Regression Out-Of-Sample R^2: %.2f' % (gp_model.score(x_test, y_test))"
   ]
  },
  {
   "cell_type": "code",
   "execution_count": 11,
   "metadata": {},
   "outputs": [
    {
     "name": "stdout",
     "output_type": "stream",
     "text": [
      "[====================================================================================================] 100% ETA: 0s   \n"
     ]
    },
    {
     "data": {
      "text/html": [
       "<div>\n",
       "<style scoped>\n",
       "    .dataframe tbody tr th:only-of-type {\n",
       "        vertical-align: middle;\n",
       "    }\n",
       "\n",
       "    .dataframe tbody tr th {\n",
       "        vertical-align: top;\n",
       "    }\n",
       "\n",
       "    .dataframe thead th {\n",
       "        text-align: right;\n",
       "    }\n",
       "</style>\n",
       "<table border=\"1\" class=\"dataframe\">\n",
       "  <thead>\n",
       "    <tr style=\"text-align: right;\">\n",
       "      <th></th>\n",
       "      <th>Lost R-Squared</th>\n",
       "      <th>Lost Log-Likelihood Per Sample</th>\n",
       "      <th>Lost RMSE</th>\n",
       "      <th>Residual R-Squared</th>\n",
       "      <th>Residual Log-Likelihood Per Sample</th>\n",
       "      <th>Residual RMSE</th>\n",
       "    </tr>\n",
       "  </thead>\n",
       "  <tbody>\n",
       "    <tr>\n",
       "      <th>0</th>\n",
       "      <td>0.00</td>\n",
       "      <td>4.36e-02</td>\n",
       "      <td>7.65e-02</td>\n",
       "      <td>0.90</td>\n",
       "      <td>-4.46e-01</td>\n",
       "      <td>7.37e-01</td>\n",
       "    </tr>\n",
       "  </tbody>\n",
       "</table>\n",
       "</div>"
      ],
      "text/plain": [
       "  Lost R-Squared Lost Log-Likelihood Per Sample Lost RMSE Residual R-Squared  \\\n",
       "0           0.00                       4.36e-02  7.65e-02               0.90   \n",
       "\n",
       "  Residual Log-Likelihood Per Sample Residual RMSE  \n",
       "0                          -4.46e-01      7.37e-01  "
      ]
     },
     "execution_count": 11,
     "metadata": {},
     "output_type": "execute_result"
    }
   ],
   "source": [
    "gp_test_df[['Froude Number', 'Residuary Resistance', 'Prediction']].kxy\\\n",
    "    .model_driven_improvability(label_column, prediction_column, \\\n",
    "        problem_type='regression')"
   ]
  },
  {
   "cell_type": "markdown",
   "metadata": {},
   "source": [
    "Lost performance metrics still have negligible values as the prediction function is 1-to-1. \n",
    "\n",
    "Moreover, residual performances are reduced, which is an indication that our GP model is less suboptimal than our linear regression model. A lower `Residual RMSE` typically implies that residuals have a smaller variance. A lower `Residual R-Squared` illustrates that residuals are harder to predict using the explanatory variables, which implies the model is more effective --- when the model is optimal, residuals are independant from explanatory variables.\n",
    "\n",
    "We note however that the `kxy` analysis suggests that there is still a lot of juice left in our GP residuals. This can be visually confirmed on the figure below, where we see that our trained GP model undershoots for large `Froude Number` values. This is most likely due to the fact that we did not learn kernel hyper-parameters. "
   ]
  },
  {
   "cell_type": "code",
   "execution_count": 12,
   "metadata": {},
   "outputs": [
    {
     "data": {
      "image/png": "[encoded data removed]",
      "text/plain": [
       "<Figure size 1440x720 with 2 Axes>"
      ]
     },
     "metadata": {
      "needs_background": "light"
     },
     "output_type": "display_data"
    }
   ],
   "source": [
    "fig, axes = plt.subplots(1, 2, figsize=(20, 10))\n",
    "gp_test_df[['Prediction', 'Froude Number']].sort_values(by=['Froude Number']).\\\n",
    "        plot(ax=axes[0], x='Froude Number', y='Prediction', \\\n",
    "        color='r')\n",
    "gp_test_df[['Residuary Resistance', 'Froude Number']].plot(\\\n",
    "        ax=axes[0], x='Froude Number', y='Residuary Resistance', \\\n",
    "        kind='scatter')\n",
    "gp_test_df['Residuals'] = gp_test_df['Residuary Resistance']-gp_test_df['Prediction']\n",
    "gp_test_df[['Residuals', 'Froude Number']].plot(\\\n",
    "        ax=axes[1], x='Froude Number', y='Residuals', \\\n",
    "        kind='scatter', label='Residuals (GP Regression)', color='k')\n",
    "axes[0].legend(['Predictions (GP Regression)', 'True'])\n",
    "plt.show()"
   ]
  }
 ],
 "metadata": {
  "kernelspec": {
   "display_name": "kxy",
   "language": "python",
   "name": "kxy"
  },
  "language_info": {
   "codemirror_mode": {
    "name": "ipython",
    "version": 3
   },
   "file_extension": ".py",
   "mimetype": "text/x-python",
   "name": "python",
   "nbconvert_exporter": "python",
   "pygments_lexer": "ipython3",
   "version": "3.7.7"
  }
 },
 "nbformat": 4,
 "nbformat_minor": 4
}
