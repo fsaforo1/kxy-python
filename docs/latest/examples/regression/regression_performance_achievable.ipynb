{
 "cells": [
  {
   "cell_type": "markdown",
   "metadata": {},
   "source": [
    "# UCI Yacht Hydrodynamics Feasibility\n",
    "In this tutorial we show how to run to use the `kxy` package to estimate the best performance that can be achieved when using a specific set of variables in a regression problem.\n",
    "\n",
    "We use the UCI Yacht Hydrodynamics dataset."
   ]
  },
  {
   "cell_type": "code",
   "execution_count": 1,
   "metadata": {},
   "outputs": [],
   "source": [
    "%load_ext autoreload\n",
    "%autoreload 2\n",
    "import warnings\n",
    "warnings.filterwarnings('ignore')\n",
    "\n",
    "# Required imports\n",
    "import numpy as np\n",
    "import pandas as pd\n",
    "import kxy"
   ]
  },
  {
   "cell_type": "code",
   "execution_count": 2,
   "metadata": {},
   "outputs": [],
   "source": [
    "df = pd.read_csv('http://archive.ics.uci.edu/ml/machine-learning-databases/'\\\n",
    "                 '00243/yacht_hydrodynamics.data', sep='[ ]{1,2}',\\\n",
    "                 names=['Longitudinal Position', 'Prismatic Coeefficient',\\\n",
    "                        'Length-Displacement', 'Beam-Draught Ratio',\\\n",
    "                        'Length-Beam Ratio', 'Froude Number',\\\n",
    "                        'Residuary Resistance'])\n",
    "df.rename(columns={col: col.title() for col in df.columns}, inplace=True)"
   ]
  },
  {
   "cell_type": "markdown",
   "metadata": {},
   "source": [
    "## How To Generate The Achievable Performance Analysis"
   ]
  },
  {
   "cell_type": "code",
   "execution_count": 3,
   "metadata": {},
   "outputs": [
    {
     "name": "stdout",
     "output_type": "stream",
     "text": [
      "[====================================================================================================] 100% ETA: 0s   \n"
     ]
    }
   ],
   "source": [
    "performance_analysis = df.kxy.data_valuation('Residuary Resistance', problem_type='regression')"
   ]
  },
  {
   "cell_type": "code",
   "execution_count": 4,
   "metadata": {},
   "outputs": [
    {
     "data": {
      "text/html": [
       "<div>\n",
       "<style scoped>\n",
       "    .dataframe tbody tr th:only-of-type {\n",
       "        vertical-align: middle;\n",
       "    }\n",
       "\n",
       "    .dataframe tbody tr th {\n",
       "        vertical-align: top;\n",
       "    }\n",
       "\n",
       "    .dataframe thead th {\n",
       "        text-align: right;\n",
       "    }\n",
       "</style>\n",
       "<table border=\"1\" class=\"dataframe\">\n",
       "  <thead>\n",
       "    <tr style=\"text-align: right;\">\n",
       "      <th></th>\n",
       "      <th>Achievable R-Squared</th>\n",
       "      <th>Achievable Log-Likelihood Per Sample</th>\n",
       "      <th>Achievable RMSE</th>\n",
       "    </tr>\n",
       "  </thead>\n",
       "  <tbody>\n",
       "    <tr>\n",
       "      <th>0</th>\n",
       "      <td>0.99</td>\n",
       "      <td>-1.20</td>\n",
       "      <td>1.33</td>\n",
       "    </tr>\n",
       "  </tbody>\n",
       "</table>\n",
       "</div>"
      ],
      "text/plain": [
       "  Achievable R-Squared Achievable Log-Likelihood Per Sample Achievable RMSE\n",
       "0                 0.99                                -1.20            1.33"
      ]
     },
     "execution_count": 4,
     "metadata": {},
     "output_type": "execute_result"
    }
   ],
   "source": [
    "performance_analysis"
   ]
  },
  {
   "cell_type": "markdown",
   "metadata": {},
   "source": [
    "**Note:** the same syntax is used for classification problems. The type of supervised learning problem is inferred based on the label column."
   ]
  },
  {
   "cell_type": "markdown",
   "metadata": {},
   "source": [
    "## Column Meaning\n",
    "\n",
    "* `Achievable R-Squared`: The highest $R^2$ that **can be achieved** by a model using the inputs to predict the label.\n",
    "* `Achievable Log-Likelihood Per Sample`: The highest true log-likelihood per sample that **can be achieved** by a model using the inputs to predict the label.\n",
    "* `Achievable RMSE`: The lowest Root-Mean-Square-Error that **can be achieved** by a model using the inputs to predict the label.\n",
    "\n",
    "These performances are not mere upper bounds, they are attainable.\n"
   ]
  }
 ],
 "metadata": {
  "kernelspec": {
   "display_name": "kxy",
   "language": "python",
   "name": "kxy"
  },
  "language_info": {
   "codemirror_mode": {
    "name": "ipython",
    "version": 3
   },
   "file_extension": ".py",
   "mimetype": "text/x-python",
   "name": "python",
   "nbconvert_exporter": "python",
   "pygments_lexer": "ipython3",
   "version": "3.7.10"
  }
 },
 "nbformat": 4,
 "nbformat_minor": 4
}
