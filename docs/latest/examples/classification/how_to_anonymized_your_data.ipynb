{
 "cells": [
  {
   "cell_type": "markdown",
   "metadata": {},
   "source": [
    "# How To Anonymize Your Data"
   ]
  },
  {
   "cell_type": "markdown",
   "metadata": {},
   "source": [
    "We show how to anonymize your data and illustrate that this has no impact on performance using the Census Income UCI dataset."
   ]
  },
  {
   "cell_type": "code",
   "execution_count": 1,
   "metadata": {},
   "outputs": [],
   "source": [
    "%load_ext autoreload\n",
    "%autoreload 2\n",
    "\n",
    "import pandas as pd\n",
    "import numpy as np\n",
    "import kxy\n",
    "url = 'http://archive.ics.uci.edu/ml/machine-learning-databases/00267/' \\\n",
    "    'data_banknote_authentication.txt'\n",
    "df = pd.read_csv(url, names=['Variance', 'Skewness', 'Kurtosis', 'Entropy', 'Is Fake'])"
   ]
  },
  {
   "cell_type": "markdown",
   "metadata": {},
   "source": [
    "## The Data"
   ]
  },
  {
   "cell_type": "code",
   "execution_count": 2,
   "metadata": {
    "scrolled": false
   },
   "outputs": [
    {
     "name": "stdout",
     "output_type": "stream",
     "text": [
      "       \n",
      "---------------\n",
      "Column: Entropy\n",
      "---------------\n",
      "Type:   Continuous\n",
      "Max:    2.4\n",
      "p75:    0.4\n",
      "Mean:   -1.2\n",
      "Median: -0.6\n",
      "p25:    -2.4\n",
      "Min:    -8.5\n",
      "       \n",
      "---------------\n",
      "Column: Is Fake\n",
      "---------------\n",
      "Type:   Continuous\n",
      "Max:    1.0\n",
      "p75:    1.0\n",
      "Mean:   0.4\n",
      "Median: 0.0\n",
      "p25:    0.0\n",
      "Min:    0.0\n",
      "       \n",
      "----------------\n",
      "Column: Kurtosis\n",
      "----------------\n",
      "Type:   Continuous\n",
      "Max:    17\n",
      "p75:    3.2\n",
      "Mean:   1.4\n",
      "Median: 0.6\n",
      "p25:    -1.6\n",
      "Min:    -5.3\n",
      "       \n",
      "----------------\n",
      "Column: Skewness\n",
      "----------------\n",
      "Type:   Continuous\n",
      "Max:    12\n",
      "p75:    6.8\n",
      "Mean:   1.9\n",
      "Median: 2.3\n",
      "p25:    -1.7\n",
      "Min:    -13.8\n",
      "       \n",
      "----------------\n",
      "Column: Variance\n",
      "----------------\n",
      "Type:   Continuous\n",
      "Max:    6.8\n",
      "p75:    2.8\n",
      "Mean:   0.4\n",
      "Median: 0.5\n",
      "p25:    -1.8\n",
      "Min:    -7.0\n"
     ]
    }
   ],
   "source": [
    "df.kxy.describe()"
   ]
  },
  {
   "cell_type": "markdown",
   "metadata": {},
   "source": [
    "## The Anonymized Data"
   ]
  },
  {
   "cell_type": "code",
   "execution_count": 3,
   "metadata": {
    "scrolled": false
   },
   "outputs": [
    {
     "name": "stdout",
     "output_type": "stream",
     "text": [
      "       \n",
      "---------------\n",
      "Column: Entropy\n",
      "---------------\n",
      "Type:   Continuous\n",
      "Max:    1,372\n",
      "p75:    1,029\n",
      "Mean:   686\n",
      "Median: 686\n",
      "p25:    343\n",
      "Min:    1.0\n",
      "       \n",
      "---------------\n",
      "Column: Is Fake\n",
      "---------------\n",
      "Type:   Continuous\n",
      "Max:    1.0\n",
      "p75:    1.0\n",
      "Mean:   0.4\n",
      "Median: 0.0\n",
      "p25:    0.0\n",
      "Min:    0.0\n",
      "       \n",
      "----------------\n",
      "Column: Kurtosis\n",
      "----------------\n",
      "Type:   Continuous\n",
      "Max:    1,372\n",
      "p75:    1,029\n",
      "Mean:   686\n",
      "Median: 686\n",
      "p25:    343\n",
      "Min:    1.0\n",
      "       \n",
      "----------------\n",
      "Column: Skewness\n",
      "----------------\n",
      "Type:   Continuous\n",
      "Max:    1,372\n",
      "p75:    1,029\n",
      "Mean:   686\n",
      "Median: 686\n",
      "p25:    343\n",
      "Min:    1.0\n",
      "       \n",
      "----------------\n",
      "Column: Variance\n",
      "----------------\n",
      "Type:   Continuous\n",
      "Max:    1,372\n",
      "p75:    1,029\n",
      "Mean:   686\n",
      "Median: 686\n",
      "p25:    343\n",
      "Min:    1.0\n"
     ]
    }
   ],
   "source": [
    "anon_df = df.kxy.anonymize(columns_to_exclude=['Is Fake'])\n",
    "anon_df.kxy.describe()"
   ]
  },
  {
   "cell_type": "markdown",
   "metadata": {},
   "source": [
    "## Comparing Variable Selection With and Without Anonymization"
   ]
  },
  {
   "cell_type": "markdown",
   "metadata": {},
   "source": [
    "### Model-Free Variable Selection With Clear Data"
   ]
  },
  {
   "cell_type": "code",
   "execution_count": 4,
   "metadata": {},
   "outputs": [
    {
     "name": "stdout",
     "output_type": "stream",
     "text": [
      "[====================================================================================================] 100% ETA: 0s   \n"
     ]
    },
    {
     "data": {
      "text/html": [
       "<div>\n",
       "<style scoped>\n",
       "    .dataframe tbody tr th:only-of-type {\n",
       "        vertical-align: middle;\n",
       "    }\n",
       "\n",
       "    .dataframe tbody tr th {\n",
       "        vertical-align: top;\n",
       "    }\n",
       "\n",
       "    .dataframe thead th {\n",
       "        text-align: right;\n",
       "    }\n",
       "</style>\n",
       "<table border=\"1\" class=\"dataframe\">\n",
       "  <thead>\n",
       "    <tr style=\"text-align: right;\">\n",
       "      <th></th>\n",
       "      <th>Achievable R-Squared</th>\n",
       "      <th>Achievable Log-Likelihood Per Sample</th>\n",
       "      <th>Achievable Accuracy</th>\n",
       "    </tr>\n",
       "  </thead>\n",
       "  <tbody>\n",
       "    <tr>\n",
       "      <th>0</th>\n",
       "      <td>0.75</td>\n",
       "      <td>7.29e-04</td>\n",
       "      <td>1.00</td>\n",
       "    </tr>\n",
       "  </tbody>\n",
       "</table>\n",
       "</div>"
      ],
      "text/plain": [
       "  Achievable R-Squared Achievable Log-Likelihood Per Sample  \\\n",
       "0                 0.75                             7.29e-04   \n",
       "\n",
       "  Achievable Accuracy  \n",
       "0                1.00  "
      ]
     },
     "execution_count": 4,
     "metadata": {},
     "output_type": "execute_result"
    }
   ],
   "source": [
    "df.kxy.data_valuation('Is Fake', problem_type='classification')"
   ]
  },
  {
   "cell_type": "code",
   "execution_count": 5,
   "metadata": {
    "scrolled": true
   },
   "outputs": [
    {
     "name": "stdout",
     "output_type": "stream",
     "text": [
      "[====================================================================================================] 100% ETA: 0s   \n"
     ]
    },
    {
     "data": {
      "text/html": [
       "<div>\n",
       "<style scoped>\n",
       "    .dataframe tbody tr th:only-of-type {\n",
       "        vertical-align: middle;\n",
       "    }\n",
       "\n",
       "    .dataframe tbody tr th {\n",
       "        vertical-align: top;\n",
       "    }\n",
       "\n",
       "    .dataframe thead th {\n",
       "        text-align: right;\n",
       "    }\n",
       "</style>\n",
       "<table border=\"1\" class=\"dataframe\">\n",
       "  <thead>\n",
       "    <tr style=\"text-align: right;\">\n",
       "      <th></th>\n",
       "      <th>Variable</th>\n",
       "      <th>Running Achievable R-Squared</th>\n",
       "      <th>Running Achievable Accuracy</th>\n",
       "    </tr>\n",
       "    <tr>\n",
       "      <th>Selection Order</th>\n",
       "      <th></th>\n",
       "      <th></th>\n",
       "      <th></th>\n",
       "    </tr>\n",
       "  </thead>\n",
       "  <tbody>\n",
       "    <tr>\n",
       "      <th>1</th>\n",
       "      <td>Variance</td>\n",
       "      <td>0.39</td>\n",
       "      <td>0.84</td>\n",
       "    </tr>\n",
       "    <tr>\n",
       "      <th>2</th>\n",
       "      <td>Skewness</td>\n",
       "      <td>0.44</td>\n",
       "      <td>0.86</td>\n",
       "    </tr>\n",
       "    <tr>\n",
       "      <th>3</th>\n",
       "      <td>Kurtosis</td>\n",
       "      <td>0.65</td>\n",
       "      <td>0.96</td>\n",
       "    </tr>\n",
       "    <tr>\n",
       "      <th>4</th>\n",
       "      <td>Entropy</td>\n",
       "      <td>0.65</td>\n",
       "      <td>0.96</td>\n",
       "    </tr>\n",
       "  </tbody>\n",
       "</table>\n",
       "</div>"
      ],
      "text/plain": [
       "                 Variable Running Achievable R-Squared  \\\n",
       "Selection Order                                          \n",
       "1                Variance                         0.39   \n",
       "2                Skewness                         0.44   \n",
       "3                Kurtosis                         0.65   \n",
       "4                 Entropy                         0.65   \n",
       "\n",
       "                Running Achievable Accuracy  \n",
       "Selection Order                              \n",
       "1                                      0.84  \n",
       "2                                      0.86  \n",
       "3                                      0.96  \n",
       "4                                      0.96  "
      ]
     },
     "execution_count": 5,
     "metadata": {},
     "output_type": "execute_result"
    }
   ],
   "source": [
    "df.kxy.variable_selection('Is Fake', problem_type='classification')"
   ]
  },
  {
   "cell_type": "markdown",
   "metadata": {},
   "source": [
    "### Model-Free Variable Selection With Anonymized Data"
   ]
  },
  {
   "cell_type": "code",
   "execution_count": 6,
   "metadata": {},
   "outputs": [
    {
     "name": "stdout",
     "output_type": "stream",
     "text": [
      "[====================================================================================================] 100% ETA: 0s   \n"
     ]
    },
    {
     "data": {
      "text/html": [
       "<div>\n",
       "<style scoped>\n",
       "    .dataframe tbody tr th:only-of-type {\n",
       "        vertical-align: middle;\n",
       "    }\n",
       "\n",
       "    .dataframe tbody tr th {\n",
       "        vertical-align: top;\n",
       "    }\n",
       "\n",
       "    .dataframe thead th {\n",
       "        text-align: right;\n",
       "    }\n",
       "</style>\n",
       "<table border=\"1\" class=\"dataframe\">\n",
       "  <thead>\n",
       "    <tr style=\"text-align: right;\">\n",
       "      <th></th>\n",
       "      <th>Variable</th>\n",
       "      <th>Running Achievable R-Squared</th>\n",
       "      <th>Running Achievable Accuracy</th>\n",
       "    </tr>\n",
       "    <tr>\n",
       "      <th>Selection Order</th>\n",
       "      <th></th>\n",
       "      <th></th>\n",
       "      <th></th>\n",
       "    </tr>\n",
       "  </thead>\n",
       "  <tbody>\n",
       "    <tr>\n",
       "      <th>1</th>\n",
       "      <td>Variance</td>\n",
       "      <td>0.39</td>\n",
       "      <td>0.84</td>\n",
       "    </tr>\n",
       "    <tr>\n",
       "      <th>2</th>\n",
       "      <td>Skewness</td>\n",
       "      <td>0.44</td>\n",
       "      <td>0.86</td>\n",
       "    </tr>\n",
       "    <tr>\n",
       "      <th>3</th>\n",
       "      <td>Kurtosis</td>\n",
       "      <td>0.65</td>\n",
       "      <td>0.96</td>\n",
       "    </tr>\n",
       "    <tr>\n",
       "      <th>4</th>\n",
       "      <td>Entropy</td>\n",
       "      <td>0.65</td>\n",
       "      <td>0.96</td>\n",
       "    </tr>\n",
       "  </tbody>\n",
       "</table>\n",
       "</div>"
      ],
      "text/plain": [
       "                 Variable Running Achievable R-Squared  \\\n",
       "Selection Order                                          \n",
       "1                Variance                         0.39   \n",
       "2                Skewness                         0.44   \n",
       "3                Kurtosis                         0.65   \n",
       "4                 Entropy                         0.65   \n",
       "\n",
       "                Running Achievable Accuracy  \n",
       "Selection Order                              \n",
       "1                                      0.84  \n",
       "2                                      0.86  \n",
       "3                                      0.96  \n",
       "4                                      0.96  "
      ]
     },
     "execution_count": 6,
     "metadata": {},
     "output_type": "execute_result"
    }
   ],
   "source": [
    "anon_df.kxy.variable_selection('Is Fake', problem_type='classification')"
   ]
  }
 ],
 "metadata": {
  "kernelspec": {
   "display_name": "kxy",
   "language": "python",
   "name": "kxy"
  },
  "language_info": {
   "codemirror_mode": {
    "name": "ipython",
    "version": 3
   },
   "file_extension": ".py",
   "mimetype": "text/x-python",
   "name": "python",
   "nbconvert_exporter": "python",
   "pygments_lexer": "ipython3",
   "version": "3.7.7"
  }
 },
 "nbformat": 4,
 "nbformat_minor": 4
}
