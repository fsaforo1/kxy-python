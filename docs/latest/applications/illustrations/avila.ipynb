{
 "cells": [
  {
   "cell_type": "markdown",
   "metadata": {},
   "source": [
    "# Avila (UCI, Classification, n=20867, d=10, 12 classes)"
   ]
  },
  {
   "cell_type": "markdown",
   "metadata": {},
   "source": [
    "## Loading The Data"
   ]
  },
  {
   "cell_type": "code",
   "execution_count": 1,
   "metadata": {},
   "outputs": [],
   "source": [
    "from kxy_datasets.uci_classifications import Avila # pip install kxy_datasets"
   ]
  },
  {
   "cell_type": "code",
   "execution_count": 2,
   "metadata": {},
   "outputs": [],
   "source": [
    "dataset = Avila()\n",
    "df = dataset.df # Retrieve the dataset as a pandas dataframe\n",
    "y_column = dataset.y_column # The name of the column corresponding to the target\n",
    "problem_type = dataset.problem_type # 'regression' or 'classification'"
   ]
  },
  {
   "cell_type": "code",
   "execution_count": 3,
   "metadata": {
    "scrolled": false
   },
   "outputs": [
    {
     "name": "stdout",
     "output_type": "stream",
     "text": [
      "         \n",
      "-------------\n",
      "Column: Class\n",
      "-------------\n",
      "Type:      Categorical\n",
      "Frequency: 41.08%, Label: A\n",
      "Frequency: 18.80%, Label: F\n",
      "Frequency: 10.50%, Label: E\n",
      "Frequency:  7.97%, Label: I\n",
      "Frequency:  5.00%, Label: X\n",
      "Frequency:  4.98%, Label: H\n",
      "Frequency:  4.28%, Label: G\n",
      "Other Labels: 7.39%\n",
      "         \n",
      "----------\n",
      "Column: F1\n",
      "----------\n",
      "Type:   Continuous\n",
      "Max:    11\n",
      "p75:    0.2\n",
      "Mean:   -0.0\n",
      "Median: 0.1\n",
      "p25:    -0.1\n",
      "Min:    -3.5\n",
      "         \n",
      "-----------\n",
      "Column: F10\n",
      "-----------\n",
      "Type:   Continuous\n",
      "Max:    11\n",
      "p75:    0.5\n",
      "Mean:   0.0\n",
      "Median: -0.0\n",
      "p25:    -0.5\n",
      "Min:    -6.7\n",
      "         \n",
      "----------\n",
      "Column: F2\n",
      "----------\n",
      "Type:   Continuous\n",
      "Max:    386\n",
      "p75:    0.2\n",
      "Mean:   0.0\n",
      "Median: -0.1\n",
      "p25:    -0.3\n",
      "Min:    -2.4\n",
      "         \n",
      "----------\n",
      "Column: F3\n",
      "----------\n",
      "Type:   Continuous\n",
      "Max:    50\n",
      "p75:    0.4\n",
      "Mean:   0.0\n",
      "Median: 0.2\n",
      "p25:    0.1\n",
      "Min:    -3.2\n",
      "         \n",
      "----------\n",
      "Column: F4\n",
      "----------\n",
      "Type:   Continuous\n",
      "Max:    4.0\n",
      "p75:    0.6\n",
      "Mean:   0.0\n",
      "Median: 0.1\n",
      "p25:    -0.5\n",
      "Min:    -5.4\n",
      "         \n",
      "----------\n",
      "Column: F5\n",
      "----------\n",
      "Type:   Continuous\n",
      "Max:    1.1\n",
      "p75:    0.3\n",
      "Mean:   0.0\n",
      "Median: 0.3\n",
      "p25:    0.2\n",
      "Min:    -4.9\n",
      "         \n",
      "----------\n",
      "Column: F6\n",
      "----------\n",
      "Type:   Continuous\n",
      "Max:    53\n",
      "p75:    0.6\n",
      "Mean:   0.0\n",
      "Median: -0.1\n",
      "p25:    -0.6\n",
      "Min:    -7.5\n",
      "         \n",
      "----------\n",
      "Column: F7\n",
      "----------\n",
      "Type:   Continuous\n",
      "Max:    83\n",
      "p75:    0.4\n",
      "Mean:   0.0\n",
      "Median: 0.2\n",
      "p25:    -0.0\n",
      "Min:    -11.9\n",
      "         \n",
      "----------\n",
      "Column: F8\n",
      "----------\n",
      "Type:   Continuous\n",
      "Max:    13\n",
      "p75:    0.6\n",
      "Mean:   0.0\n",
      "Median: 0.1\n",
      "p25:    -0.5\n",
      "Min:    -4.2\n",
      "         \n",
      "----------\n",
      "Column: F9\n",
      "----------\n",
      "Type:   Continuous\n",
      "Max:    44\n",
      "p75:    0.5\n",
      "Mean:   0.0\n",
      "Median: 0.1\n",
      "p25:    -0.4\n",
      "Min:    -5.5\n"
     ]
    }
   ],
   "source": [
    "df.kxy.describe() # Visualize a summary of the data"
   ]
  },
  {
   "cell_type": "markdown",
   "metadata": {},
   "source": [
    "## Data Valuation"
   ]
  },
  {
   "cell_type": "code",
   "execution_count": 4,
   "metadata": {},
   "outputs": [
    {
     "name": "stdout",
     "output_type": "stream",
     "text": [
      "[====================================================================================================] 100% ETA: 0s    Duration: 0s\n"
     ]
    },
    {
     "data": {
      "text/html": [
       "<div>\n",
       "<style scoped>\n",
       "    .dataframe tbody tr th:only-of-type {\n",
       "        vertical-align: middle;\n",
       "    }\n",
       "\n",
       "    .dataframe tbody tr th {\n",
       "        vertical-align: top;\n",
       "    }\n",
       "\n",
       "    .dataframe thead th {\n",
       "        text-align: right;\n",
       "    }\n",
       "</style>\n",
       "<table border=\"1\" class=\"dataframe\">\n",
       "  <thead>\n",
       "    <tr style=\"text-align: right;\">\n",
       "      <th></th>\n",
       "      <th>Achievable R-Squared</th>\n",
       "      <th>Achievable Log-Likelihood Per Sample</th>\n",
       "      <th>Achievable Accuracy</th>\n",
       "    </tr>\n",
       "  </thead>\n",
       "  <tbody>\n",
       "    <tr>\n",
       "      <th>0</th>\n",
       "      <td>0.97</td>\n",
       "      <td>4.44e-16</td>\n",
       "      <td>1.00</td>\n",
       "    </tr>\n",
       "  </tbody>\n",
       "</table>\n",
       "</div>"
      ],
      "text/plain": [
       "  Achievable R-Squared Achievable Log-Likelihood Per Sample  \\\n",
       "0                 0.97                             4.44e-16   \n",
       "\n",
       "  Achievable Accuracy  \n",
       "0                1.00  "
      ]
     },
     "execution_count": 4,
     "metadata": {},
     "output_type": "execute_result"
    }
   ],
   "source": [
    "df.kxy.data_valuation(y_column, problem_type=problem_type)"
   ]
  },
  {
   "cell_type": "markdown",
   "metadata": {},
   "source": [
    "## Automatic (Model-Free) Variable Selection"
   ]
  },
  {
   "cell_type": "code",
   "execution_count": 5,
   "metadata": {
    "scrolled": false
   },
   "outputs": [
    {
     "name": "stdout",
     "output_type": "stream",
     "text": [
      "[====================================================================================================] 100% ETA: 0s    Duration: 0s\n"
     ]
    },
    {
     "data": {
      "text/html": [
       "<div>\n",
       "<style scoped>\n",
       "    .dataframe tbody tr th:only-of-type {\n",
       "        vertical-align: middle;\n",
       "    }\n",
       "\n",
       "    .dataframe tbody tr th {\n",
       "        vertical-align: top;\n",
       "    }\n",
       "\n",
       "    .dataframe thead th {\n",
       "        text-align: right;\n",
       "    }\n",
       "</style>\n",
       "<table border=\"1\" class=\"dataframe\">\n",
       "  <thead>\n",
       "    <tr style=\"text-align: right;\">\n",
       "      <th></th>\n",
       "      <th>Variable</th>\n",
       "      <th>Running Achievable R-Squared</th>\n",
       "      <th>Running Achievable Accuracy</th>\n",
       "    </tr>\n",
       "    <tr>\n",
       "      <th>Selection Order</th>\n",
       "      <th></th>\n",
       "      <th></th>\n",
       "      <th></th>\n",
       "    </tr>\n",
       "  </thead>\n",
       "  <tbody>\n",
       "    <tr>\n",
       "      <th>0</th>\n",
       "      <td>No Variable</td>\n",
       "      <td>0.00</td>\n",
       "      <td>0.41</td>\n",
       "    </tr>\n",
       "    <tr>\n",
       "      <th>1</th>\n",
       "      <td>F4</td>\n",
       "      <td>0.97</td>\n",
       "      <td>1.00</td>\n",
       "    </tr>\n",
       "    <tr>\n",
       "      <th>2</th>\n",
       "      <td>F10</td>\n",
       "      <td>0.97</td>\n",
       "      <td>1.00</td>\n",
       "    </tr>\n",
       "    <tr>\n",
       "      <th>3</th>\n",
       "      <td>F8</td>\n",
       "      <td>0.97</td>\n",
       "      <td>1.00</td>\n",
       "    </tr>\n",
       "    <tr>\n",
       "      <th>4</th>\n",
       "      <td>F6</td>\n",
       "      <td>0.97</td>\n",
       "      <td>1.00</td>\n",
       "    </tr>\n",
       "    <tr>\n",
       "      <th>5</th>\n",
       "      <td>F7</td>\n",
       "      <td>0.97</td>\n",
       "      <td>1.00</td>\n",
       "    </tr>\n",
       "    <tr>\n",
       "      <th>6</th>\n",
       "      <td>F1</td>\n",
       "      <td>0.97</td>\n",
       "      <td>1.00</td>\n",
       "    </tr>\n",
       "    <tr>\n",
       "      <th>7</th>\n",
       "      <td>F2</td>\n",
       "      <td>0.97</td>\n",
       "      <td>1.00</td>\n",
       "    </tr>\n",
       "    <tr>\n",
       "      <th>8</th>\n",
       "      <td>F3</td>\n",
       "      <td>0.97</td>\n",
       "      <td>1.00</td>\n",
       "    </tr>\n",
       "    <tr>\n",
       "      <th>9</th>\n",
       "      <td>F5</td>\n",
       "      <td>0.97</td>\n",
       "      <td>1.00</td>\n",
       "    </tr>\n",
       "    <tr>\n",
       "      <th>10</th>\n",
       "      <td>F9</td>\n",
       "      <td>0.97</td>\n",
       "      <td>1.00</td>\n",
       "    </tr>\n",
       "  </tbody>\n",
       "</table>\n",
       "</div>"
      ],
      "text/plain": [
       "                    Variable Running Achievable R-Squared  \\\n",
       "Selection Order                                             \n",
       "0                No Variable                         0.00   \n",
       "1                         F4                         0.97   \n",
       "2                        F10                         0.97   \n",
       "3                         F8                         0.97   \n",
       "4                         F6                         0.97   \n",
       "5                         F7                         0.97   \n",
       "6                         F1                         0.97   \n",
       "7                         F2                         0.97   \n",
       "8                         F3                         0.97   \n",
       "9                         F5                         0.97   \n",
       "10                        F9                         0.97   \n",
       "\n",
       "                Running Achievable Accuracy  \n",
       "Selection Order                              \n",
       "0                                      0.41  \n",
       "1                                      1.00  \n",
       "2                                      1.00  \n",
       "3                                      1.00  \n",
       "4                                      1.00  \n",
       "5                                      1.00  \n",
       "6                                      1.00  \n",
       "7                                      1.00  \n",
       "8                                      1.00  \n",
       "9                                      1.00  \n",
       "10                                     1.00  "
      ]
     },
     "execution_count": 5,
     "metadata": {},
     "output_type": "execute_result"
    }
   ],
   "source": [
    "df.kxy.variable_selection(y_column, problem_type=problem_type)"
   ]
  }
 ],
 "metadata": {
  "kernelspec": {
   "display_name": "kxy",
   "language": "python",
   "name": "kxy"
  },
  "language_info": {
   "codemirror_mode": {
    "name": "ipython",
    "version": 3
   },
   "file_extension": ".py",
   "mimetype": "text/x-python",
   "name": "python",
   "nbconvert_exporter": "python",
   "pygments_lexer": "ipython3",
   "version": "3.7.10"
  }
 },
 "nbformat": 4,
 "nbformat_minor": 4
}
