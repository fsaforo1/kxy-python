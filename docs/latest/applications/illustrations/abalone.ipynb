{
 "cells": [
  {
   "cell_type": "markdown",
   "metadata": {},
   "source": [
    "# Abalone (UCI, Regression, n=4177, d=8)"
   ]
  },
  {
   "cell_type": "markdown",
   "metadata": {},
   "source": [
    "## Loading The Data"
   ]
  },
  {
   "cell_type": "code",
   "execution_count": 1,
   "metadata": {},
   "outputs": [],
   "source": [
    "from kxy_datasets.uci_regressions import Abalone # pip install kxy_datasets"
   ]
  },
  {
   "cell_type": "code",
   "execution_count": 2,
   "metadata": {},
   "outputs": [],
   "source": [
    "dataset = Abalone()\n",
    "df = dataset.df # Retrieve the dataset as a pandas dataframe\n",
    "y_column = dataset.y_column # The name of the column corresponding to the target\n",
    "problem_type = dataset.problem_type # 'regression' or 'classification'"
   ]
  },
  {
   "cell_type": "code",
   "execution_count": 3,
   "metadata": {
    "scrolled": false
   },
   "outputs": [
    {
     "name": "stdout",
     "output_type": "stream",
     "text": [
      "         \n",
      "-----------\n",
      "Column: Age\n",
      "-----------\n",
      "Type:   Continuous\n",
      "Max:    30\n",
      "p75:    12\n",
      "Mean:   11\n",
      "Median: 10\n",
      "p25:    9.5\n",
      "Min:    2.5\n",
      "         \n",
      "----------------\n",
      "Column: Diameter\n",
      "----------------\n",
      "Type:   Continuous\n",
      "Max:    0.7\n",
      "p75:    0.5\n",
      "Mean:   0.4\n",
      "Median: 0.4\n",
      "p25:    0.3\n",
      "Min:    0.1\n",
      "         \n",
      "--------------\n",
      "Column: Height\n",
      "--------------\n",
      "Type:   Continuous\n",
      "Max:    1.1\n",
      "p75:    0.2\n",
      "Mean:   0.1\n",
      "Median: 0.1\n",
      "p25:    0.1\n",
      "Min:    0.0\n",
      "         \n",
      "--------------\n",
      "Column: Length\n",
      "--------------\n",
      "Type:   Continuous\n",
      "Max:    0.8\n",
      "p75:    0.6\n",
      "Mean:   0.5\n",
      "Median: 0.5\n",
      "p25:    0.5\n",
      "Min:    0.1\n",
      "         \n",
      "-----------\n",
      "Column: Sex\n",
      "-----------\n",
      "Type:      Categorical\n",
      "Frequency: 36.58%, Label: M\n",
      "Frequency: 32.13%, Label: I\n",
      "Frequency: 31.29%, Label: F\n",
      "         \n",
      "--------------------\n",
      "Column: Shell weight\n",
      "--------------------\n",
      "Type:   Continuous\n",
      "Max:    1.0\n",
      "p75:    0.3\n",
      "Mean:   0.2\n",
      "Median: 0.2\n",
      "p25:    0.1\n",
      "Min:    0.0\n",
      "         \n",
      "----------------------\n",
      "Column: Shucked weight\n",
      "----------------------\n",
      "Type:   Continuous\n",
      "Max:    1.5\n",
      "p75:    0.5\n",
      "Mean:   0.4\n",
      "Median: 0.3\n",
      "p25:    0.2\n",
      "Min:    0.0\n",
      "         \n",
      "----------------------\n",
      "Column: Viscera weight\n",
      "----------------------\n",
      "Type:   Continuous\n",
      "Max:    0.8\n",
      "p75:    0.3\n",
      "Mean:   0.2\n",
      "Median: 0.2\n",
      "p25:    0.1\n",
      "Min:    0.0\n",
      "         \n",
      "--------------------\n",
      "Column: Whole weight\n",
      "--------------------\n",
      "Type:   Continuous\n",
      "Max:    2.8\n",
      "p75:    1.2\n",
      "Mean:   0.8\n",
      "Median: 0.8\n",
      "p25:    0.4\n",
      "Min:    0.0\n"
     ]
    }
   ],
   "source": [
    "df.kxy.describe() # Visualize a summary of the data"
   ]
  },
  {
   "cell_type": "markdown",
   "metadata": {},
   "source": [
    "## Data Valuation"
   ]
  },
  {
   "cell_type": "code",
   "execution_count": 4,
   "metadata": {},
   "outputs": [
    {
     "name": "stdout",
     "output_type": "stream",
     "text": [
      "[====================================================================================================] 100% ETA: 0s    Duration: 0s\n"
     ]
    },
    {
     "data": {
      "text/html": [
       "<div>\n",
       "<style scoped>\n",
       "    .dataframe tbody tr th:only-of-type {\n",
       "        vertical-align: middle;\n",
       "    }\n",
       "\n",
       "    .dataframe tbody tr th {\n",
       "        vertical-align: top;\n",
       "    }\n",
       "\n",
       "    .dataframe thead th {\n",
       "        text-align: right;\n",
       "    }\n",
       "</style>\n",
       "<table border=\"1\" class=\"dataframe\">\n",
       "  <thead>\n",
       "    <tr style=\"text-align: right;\">\n",
       "      <th></th>\n",
       "      <th>Achievable R-Squared</th>\n",
       "      <th>Achievable Log-Likelihood Per Sample</th>\n",
       "      <th>Achievable RMSE</th>\n",
       "    </tr>\n",
       "  </thead>\n",
       "  <tbody>\n",
       "    <tr>\n",
       "      <th>0</th>\n",
       "      <td>1.00</td>\n",
       "      <td>2.46</td>\n",
       "      <td>2.50e-02</td>\n",
       "    </tr>\n",
       "  </tbody>\n",
       "</table>\n",
       "</div>"
      ],
      "text/plain": [
       "  Achievable R-Squared Achievable Log-Likelihood Per Sample Achievable RMSE\n",
       "0                 1.00                                 2.46        2.50e-02"
      ]
     },
     "execution_count": 4,
     "metadata": {},
     "output_type": "execute_result"
    }
   ],
   "source": [
    "df.kxy.data_valuation(y_column, problem_type=problem_type)"
   ]
  },
  {
   "cell_type": "markdown",
   "metadata": {},
   "source": [
    "## Automatic (Model-Free) Variable Selection"
   ]
  },
  {
   "cell_type": "code",
   "execution_count": 5,
   "metadata": {
    "scrolled": false
   },
   "outputs": [
    {
     "name": "stdout",
     "output_type": "stream",
     "text": [
      "[====================================================================================================] 100% ETA: 0s    Duration: 0s\n"
     ]
    },
    {
     "data": {
      "text/html": [
       "<div>\n",
       "<style scoped>\n",
       "    .dataframe tbody tr th:only-of-type {\n",
       "        vertical-align: middle;\n",
       "    }\n",
       "\n",
       "    .dataframe tbody tr th {\n",
       "        vertical-align: top;\n",
       "    }\n",
       "\n",
       "    .dataframe thead th {\n",
       "        text-align: right;\n",
       "    }\n",
       "</style>\n",
       "<table border=\"1\" class=\"dataframe\">\n",
       "  <thead>\n",
       "    <tr style=\"text-align: right;\">\n",
       "      <th></th>\n",
       "      <th>Variable</th>\n",
       "      <th>Running Achievable R-Squared</th>\n",
       "      <th>Running Achievable RMSE</th>\n",
       "    </tr>\n",
       "    <tr>\n",
       "      <th>Selection Order</th>\n",
       "      <th></th>\n",
       "      <th></th>\n",
       "      <th></th>\n",
       "    </tr>\n",
       "  </thead>\n",
       "  <tbody>\n",
       "    <tr>\n",
       "      <th>0</th>\n",
       "      <td>No Variable</td>\n",
       "      <td>0.00</td>\n",
       "      <td>3.22</td>\n",
       "    </tr>\n",
       "    <tr>\n",
       "      <th>1</th>\n",
       "      <td>Shell weight</td>\n",
       "      <td>0.58</td>\n",
       "      <td>2.09</td>\n",
       "    </tr>\n",
       "    <tr>\n",
       "      <th>2</th>\n",
       "      <td>Shucked weight</td>\n",
       "      <td>0.64</td>\n",
       "      <td>1.93</td>\n",
       "    </tr>\n",
       "    <tr>\n",
       "      <th>3</th>\n",
       "      <td>Whole weight</td>\n",
       "      <td>0.64</td>\n",
       "      <td>1.93</td>\n",
       "    </tr>\n",
       "    <tr>\n",
       "      <th>4</th>\n",
       "      <td>Height</td>\n",
       "      <td>0.92</td>\n",
       "      <td>0.92</td>\n",
       "    </tr>\n",
       "    <tr>\n",
       "      <th>5</th>\n",
       "      <td>Sex</td>\n",
       "      <td>0.92</td>\n",
       "      <td>0.92</td>\n",
       "    </tr>\n",
       "    <tr>\n",
       "      <th>6</th>\n",
       "      <td>Viscera weight</td>\n",
       "      <td>0.92</td>\n",
       "      <td>0.92</td>\n",
       "    </tr>\n",
       "    <tr>\n",
       "      <th>7</th>\n",
       "      <td>Diameter</td>\n",
       "      <td>0.92</td>\n",
       "      <td>0.92</td>\n",
       "    </tr>\n",
       "    <tr>\n",
       "      <th>8</th>\n",
       "      <td>Length</td>\n",
       "      <td>1.00</td>\n",
       "      <td>0.0250</td>\n",
       "    </tr>\n",
       "  </tbody>\n",
       "</table>\n",
       "</div>"
      ],
      "text/plain": [
       "                       Variable Running Achievable R-Squared  \\\n",
       "Selection Order                                                \n",
       "0                   No Variable                         0.00   \n",
       "1                  Shell weight                         0.58   \n",
       "2                Shucked weight                         0.64   \n",
       "3                  Whole weight                         0.64   \n",
       "4                        Height                         0.92   \n",
       "5                           Sex                         0.92   \n",
       "6                Viscera weight                         0.92   \n",
       "7                      Diameter                         0.92   \n",
       "8                        Length                         1.00   \n",
       "\n",
       "                Running Achievable RMSE  \n",
       "Selection Order                          \n",
       "0                                  3.22  \n",
       "1                                  2.09  \n",
       "2                                  1.93  \n",
       "3                                  1.93  \n",
       "4                                  0.92  \n",
       "5                                  0.92  \n",
       "6                                  0.92  \n",
       "7                                  0.92  \n",
       "8                                0.0250  "
      ]
     },
     "execution_count": 5,
     "metadata": {},
     "output_type": "execute_result"
    }
   ],
   "source": [
    "df.kxy.variable_selection(y_column, problem_type=problem_type)"
   ]
  }
 ],
 "metadata": {
  "kernelspec": {
   "display_name": "kxy",
   "language": "python",
   "name": "kxy"
  },
  "language_info": {
   "codemirror_mode": {
    "name": "ipython",
    "version": 3
   },
   "file_extension": ".py",
   "mimetype": "text/x-python",
   "name": "python",
   "nbconvert_exporter": "python",
   "pygments_lexer": "ipython3",
   "version": "3.7.10"
  }
 },
 "nbformat": 4,
 "nbformat_minor": 4
}
