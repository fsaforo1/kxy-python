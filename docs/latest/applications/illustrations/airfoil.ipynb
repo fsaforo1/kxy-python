{
 "cells": [
  {
   "cell_type": "markdown",
   "metadata": {},
   "source": [
    "# Air Foil (UCI, Regression, n=1503, d=5)"
   ]
  },
  {
   "cell_type": "markdown",
   "metadata": {},
   "source": [
    "## Loading The Data"
   ]
  },
  {
   "cell_type": "code",
   "execution_count": 1,
   "metadata": {},
   "outputs": [],
   "source": [
    "from kxy_datasets.uci_regressions import AirFoil # pip install kxy_datasets"
   ]
  },
  {
   "cell_type": "code",
   "execution_count": 2,
   "metadata": {},
   "outputs": [],
   "source": [
    "dataset = AirFoil()\n",
    "df = dataset.df # Retrieve the dataset as a pandas dataframe\n",
    "y_column = dataset.y_column # The name of the column corresponding to the target\n",
    "problem_type = dataset.problem_type # 'regression' or 'classification'"
   ]
  },
  {
   "cell_type": "code",
   "execution_count": 3,
   "metadata": {
    "scrolled": false
   },
   "outputs": [
    {
     "name": "stdout",
     "output_type": "stream",
     "text": [
      "         \n",
      "-----------------------\n",
      "Column: Angle of Attack\n",
      "-----------------------\n",
      "Type:   Continuous\n",
      "Max:    22\n",
      "p75:    9.9\n",
      "Mean:   6.8\n",
      "Median: 5.4\n",
      "p25:    2.0\n",
      "Min:    0.0\n",
      "         \n",
      "--------------------\n",
      "Column: Chord Length\n",
      "--------------------\n",
      "Type:   Continuous\n",
      "Max:    0.3\n",
      "p75:    0.2\n",
      "Mean:   0.1\n",
      "Median: 0.1\n",
      "p25:    0.1\n",
      "Min:    0.0\n",
      "         \n",
      "------------------------------\n",
      "Column: Displacement Thickness\n",
      "------------------------------\n",
      "Type:   Continuous\n",
      "Max:    0.1\n",
      "p75:    0.0\n",
      "Mean:   0.0\n",
      "Median: 0.0\n",
      "p25:    0.0\n",
      "Min:    0.0\n",
      "         \n",
      "-----------------\n",
      "Column: Frequency\n",
      "-----------------\n",
      "Type:   Continuous\n",
      "Max:    20,000\n",
      "p75:    4,000\n",
      "Mean:   2,886\n",
      "Median: 1,600\n",
      "p25:    800\n",
      "Min:    200\n",
      "         \n",
      "----------------------\n",
      "Column: Sound Pressure\n",
      "----------------------\n",
      "Type:   Continuous\n",
      "Max:    140\n",
      "p75:    129\n",
      "Mean:   124\n",
      "Median: 125\n",
      "p25:    120\n",
      "Min:    103\n",
      "         \n",
      "----------------\n",
      "Column: Velocity\n",
      "----------------\n",
      "Type:   Continuous\n",
      "Max:    71\n",
      "p75:    71\n",
      "Mean:   50\n",
      "Median: 39\n",
      "p25:    39\n",
      "Min:    31\n"
     ]
    }
   ],
   "source": [
    "df.kxy.describe() # Visualize a summary of the data"
   ]
  },
  {
   "cell_type": "markdown",
   "metadata": {},
   "source": [
    "## Data Valuation"
   ]
  },
  {
   "cell_type": "code",
   "execution_count": 4,
   "metadata": {},
   "outputs": [
    {
     "name": "stdout",
     "output_type": "stream",
     "text": [
      "[====================================================================================================] 100% ETA: 0s    Duration: 0s\n"
     ]
    },
    {
     "data": {
      "text/html": [
       "<div>\n",
       "<style scoped>\n",
       "    .dataframe tbody tr th:only-of-type {\n",
       "        vertical-align: middle;\n",
       "    }\n",
       "\n",
       "    .dataframe tbody tr th {\n",
       "        vertical-align: top;\n",
       "    }\n",
       "\n",
       "    .dataframe thead th {\n",
       "        text-align: right;\n",
       "    }\n",
       "</style>\n",
       "<table border=\"1\" class=\"dataframe\">\n",
       "  <thead>\n",
       "    <tr style=\"text-align: right;\">\n",
       "      <th></th>\n",
       "      <th>Achievable R-Squared</th>\n",
       "      <th>Achievable Log-Likelihood Per Sample</th>\n",
       "      <th>Achievable RMSE</th>\n",
       "    </tr>\n",
       "  </thead>\n",
       "  <tbody>\n",
       "    <tr>\n",
       "      <th>0</th>\n",
       "      <td>0.80</td>\n",
       "      <td>8.03e-01</td>\n",
       "      <td>3.09</td>\n",
       "    </tr>\n",
       "  </tbody>\n",
       "</table>\n",
       "</div>"
      ],
      "text/plain": [
       "  Achievable R-Squared Achievable Log-Likelihood Per Sample Achievable RMSE\n",
       "0                 0.80                             8.03e-01            3.09"
      ]
     },
     "execution_count": 4,
     "metadata": {},
     "output_type": "execute_result"
    }
   ],
   "source": [
    "df.kxy.data_valuation(y_column, problem_type=problem_type)"
   ]
  },
  {
   "cell_type": "markdown",
   "metadata": {},
   "source": [
    "## Automatic (Model-Free) Variable Selection"
   ]
  },
  {
   "cell_type": "code",
   "execution_count": 5,
   "metadata": {
    "scrolled": false
   },
   "outputs": [
    {
     "name": "stdout",
     "output_type": "stream",
     "text": [
      "[====================================================================================================] 100% ETA: 0s    Duration: 0s\n"
     ]
    },
    {
     "data": {
      "text/html": [
       "<div>\n",
       "<style scoped>\n",
       "    .dataframe tbody tr th:only-of-type {\n",
       "        vertical-align: middle;\n",
       "    }\n",
       "\n",
       "    .dataframe tbody tr th {\n",
       "        vertical-align: top;\n",
       "    }\n",
       "\n",
       "    .dataframe thead th {\n",
       "        text-align: right;\n",
       "    }\n",
       "</style>\n",
       "<table border=\"1\" class=\"dataframe\">\n",
       "  <thead>\n",
       "    <tr style=\"text-align: right;\">\n",
       "      <th></th>\n",
       "      <th>Variable</th>\n",
       "      <th>Running Achievable R-Squared</th>\n",
       "      <th>Running Achievable RMSE</th>\n",
       "    </tr>\n",
       "    <tr>\n",
       "      <th>Selection Order</th>\n",
       "      <th></th>\n",
       "      <th></th>\n",
       "      <th></th>\n",
       "    </tr>\n",
       "  </thead>\n",
       "  <tbody>\n",
       "    <tr>\n",
       "      <th>0</th>\n",
       "      <td>No Variable</td>\n",
       "      <td>0.00</td>\n",
       "      <td>6.90</td>\n",
       "    </tr>\n",
       "    <tr>\n",
       "      <th>1</th>\n",
       "      <td>Frequency</td>\n",
       "      <td>0.30</td>\n",
       "      <td>5.76</td>\n",
       "    </tr>\n",
       "    <tr>\n",
       "      <th>2</th>\n",
       "      <td>Displacement Thickness</td>\n",
       "      <td>0.73</td>\n",
       "      <td>3.61</td>\n",
       "    </tr>\n",
       "    <tr>\n",
       "      <th>3</th>\n",
       "      <td>Chord Length</td>\n",
       "      <td>0.75</td>\n",
       "      <td>3.43</td>\n",
       "    </tr>\n",
       "    <tr>\n",
       "      <th>4</th>\n",
       "      <td>Velocity</td>\n",
       "      <td>0.80</td>\n",
       "      <td>3.09</td>\n",
       "    </tr>\n",
       "    <tr>\n",
       "      <th>5</th>\n",
       "      <td>Angle of Attack</td>\n",
       "      <td>0.80</td>\n",
       "      <td>3.09</td>\n",
       "    </tr>\n",
       "  </tbody>\n",
       "</table>\n",
       "</div>"
      ],
      "text/plain": [
       "                               Variable Running Achievable R-Squared  \\\n",
       "Selection Order                                                        \n",
       "0                           No Variable                         0.00   \n",
       "1                             Frequency                         0.30   \n",
       "2                Displacement Thickness                         0.73   \n",
       "3                          Chord Length                         0.75   \n",
       "4                              Velocity                         0.80   \n",
       "5                       Angle of Attack                         0.80   \n",
       "\n",
       "                Running Achievable RMSE  \n",
       "Selection Order                          \n",
       "0                                  6.90  \n",
       "1                                  5.76  \n",
       "2                                  3.61  \n",
       "3                                  3.43  \n",
       "4                                  3.09  \n",
       "5                                  3.09  "
      ]
     },
     "execution_count": 5,
     "metadata": {},
     "output_type": "execute_result"
    }
   ],
   "source": [
    "df.kxy.variable_selection(y_column, problem_type=problem_type)"
   ]
  }
 ],
 "metadata": {
  "kernelspec": {
   "display_name": "kxy",
   "language": "python",
   "name": "kxy"
  },
  "language_info": {
   "codemirror_mode": {
    "name": "ipython",
    "version": 3
   },
   "file_extension": ".py",
   "mimetype": "text/x-python",
   "name": "python",
   "nbconvert_exporter": "python",
   "pygments_lexer": "ipython3",
   "version": "3.7.10"
  }
 },
 "nbformat": 4,
 "nbformat_minor": 4
}
