{
 "cells": [
  {
   "cell_type": "markdown",
   "metadata": {},
   "source": [
    "# Yacht Hydrodynamics (UCI, Regression, n=308, d=6)"
   ]
  },
  {
   "cell_type": "markdown",
   "metadata": {},
   "source": [
    "## Loading The Data"
   ]
  },
  {
   "cell_type": "code",
   "execution_count": 1,
   "metadata": {},
   "outputs": [],
   "source": [
    "from kxy_datasets.uci_regressions import YachtHydrodynamics # pip install kxy_datasets"
   ]
  },
  {
   "cell_type": "code",
   "execution_count": 2,
   "metadata": {},
   "outputs": [],
   "source": [
    "dataset = YachtHydrodynamics()\n",
    "df = dataset.df # Retrieve the dataset as a pandas dataframe\n",
    "y_column = dataset.y_column # The name of the column corresponding to the target\n",
    "problem_type = dataset.problem_type # 'regression' or 'classification'"
   ]
  },
  {
   "cell_type": "code",
   "execution_count": 3,
   "metadata": {
    "scrolled": false
   },
   "outputs": [
    {
     "name": "stdout",
     "output_type": "stream",
     "text": [
      "         \n",
      "--------------------------\n",
      "Column: Beam-Draught Ratio\n",
      "--------------------------\n",
      "Type:   Continuous\n",
      "Max:    5.3\n",
      "p75:    4.2\n",
      "Mean:   3.9\n",
      "Median: 4.0\n",
      "p25:    3.8\n",
      "Min:    2.8\n",
      "         \n",
      "---------------------\n",
      "Column: Froude Number\n",
      "---------------------\n",
      "Type:   Continuous\n",
      "Max:    0.5\n",
      "p75:    0.4\n",
      "Mean:   0.3\n",
      "Median: 0.3\n",
      "p25:    0.2\n",
      "Min:    0.1\n",
      "         \n",
      "-------------------------\n",
      "Column: Length-Beam Ratio\n",
      "-------------------------\n",
      "Type:   Continuous\n",
      "Max:    3.6\n",
      "p75:    3.5\n",
      "Mean:   3.2\n",
      "Median: 3.1\n",
      "p25:    3.1\n",
      "Min:    2.7\n",
      "         \n",
      "---------------------------\n",
      "Column: Length-Displacement\n",
      "---------------------------\n",
      "Type:   Continuous\n",
      "Max:    5.1\n",
      "p75:    5.1\n",
      "Mean:   4.8\n",
      "Median: 4.8\n",
      "p25:    4.8\n",
      "Min:    4.3\n",
      "         \n",
      "-----------------------------\n",
      "Column: Longitudinal Position\n",
      "-----------------------------\n",
      "Type:   Continuous\n",
      "Max:    0.0\n",
      "p75:    -2.3\n",
      "Mean:   -2.4\n",
      "Median: -2.3\n",
      "p25:    -2.4\n",
      "Min:    -5.0\n",
      "         \n",
      "------------------------------\n",
      "Column: Prismatic Coeefficient\n",
      "------------------------------\n",
      "Type:   Continuous\n",
      "Max:    0.6\n",
      "p75:    0.6\n",
      "Mean:   0.6\n",
      "Median: 0.6\n",
      "p25:    0.5\n",
      "Min:    0.5\n",
      "         \n",
      "----------------------------\n",
      "Column: Residuary Resistance\n",
      "----------------------------\n",
      "Type:   Continuous\n",
      "Max:    62\n",
      "p75:    12\n",
      "Mean:   10\n",
      "Median: 3.1\n",
      "p25:    0.8\n",
      "Min:    0.0\n"
     ]
    }
   ],
   "source": [
    "df.kxy.describe() # Visualize a summary of the data"
   ]
  },
  {
   "cell_type": "markdown",
   "metadata": {},
   "source": [
    "## Data Valuation"
   ]
  },
  {
   "cell_type": "code",
   "execution_count": 4,
   "metadata": {},
   "outputs": [
    {
     "name": "stdout",
     "output_type": "stream",
     "text": [
      "[====================================================================================================] 100% ETA: 0s    Duration: 0s\n"
     ]
    },
    {
     "data": {
      "text/html": [
       "<div>\n",
       "<style scoped>\n",
       "    .dataframe tbody tr th:only-of-type {\n",
       "        vertical-align: middle;\n",
       "    }\n",
       "\n",
       "    .dataframe tbody tr th {\n",
       "        vertical-align: top;\n",
       "    }\n",
       "\n",
       "    .dataframe thead th {\n",
       "        text-align: right;\n",
       "    }\n",
       "</style>\n",
       "<table border=\"1\" class=\"dataframe\">\n",
       "  <thead>\n",
       "    <tr style=\"text-align: right;\">\n",
       "      <th></th>\n",
       "      <th>Achievable R-Squared</th>\n",
       "      <th>Achievable Log-Likelihood Per Sample</th>\n",
       "      <th>Achievable RMSE</th>\n",
       "    </tr>\n",
       "  </thead>\n",
       "  <tbody>\n",
       "    <tr>\n",
       "      <th>0</th>\n",
       "      <td>0.99</td>\n",
       "      <td>-1.30</td>\n",
       "      <td>1.46</td>\n",
       "    </tr>\n",
       "  </tbody>\n",
       "</table>\n",
       "</div>"
      ],
      "text/plain": [
       "  Achievable R-Squared Achievable Log-Likelihood Per Sample Achievable RMSE\n",
       "0                 0.99                                -1.30            1.46"
      ]
     },
     "execution_count": 4,
     "metadata": {},
     "output_type": "execute_result"
    }
   ],
   "source": [
    "df.kxy.data_valuation(y_column, problem_type=problem_type)"
   ]
  },
  {
   "cell_type": "markdown",
   "metadata": {},
   "source": [
    "## Automatic (Model-Free) Variable Selection"
   ]
  },
  {
   "cell_type": "code",
   "execution_count": 5,
   "metadata": {
    "scrolled": false
   },
   "outputs": [
    {
     "name": "stdout",
     "output_type": "stream",
     "text": [
      "[====================================================================================================] 100% ETA: 0s    Duration: 0s\n"
     ]
    },
    {
     "data": {
      "text/html": [
       "<div>\n",
       "<style scoped>\n",
       "    .dataframe tbody tr th:only-of-type {\n",
       "        vertical-align: middle;\n",
       "    }\n",
       "\n",
       "    .dataframe tbody tr th {\n",
       "        vertical-align: top;\n",
       "    }\n",
       "\n",
       "    .dataframe thead th {\n",
       "        text-align: right;\n",
       "    }\n",
       "</style>\n",
       "<table border=\"1\" class=\"dataframe\">\n",
       "  <thead>\n",
       "    <tr style=\"text-align: right;\">\n",
       "      <th></th>\n",
       "      <th>Variable</th>\n",
       "      <th>Running Achievable R-Squared</th>\n",
       "      <th>Running Achievable RMSE</th>\n",
       "    </tr>\n",
       "    <tr>\n",
       "      <th>Selection Order</th>\n",
       "      <th></th>\n",
       "      <th></th>\n",
       "      <th></th>\n",
       "    </tr>\n",
       "  </thead>\n",
       "  <tbody>\n",
       "    <tr>\n",
       "      <th>0</th>\n",
       "      <td>No Variable</td>\n",
       "      <td>0.00</td>\n",
       "      <td>1.51e+01</td>\n",
       "    </tr>\n",
       "    <tr>\n",
       "      <th>1</th>\n",
       "      <td>Froude Number</td>\n",
       "      <td>0.98</td>\n",
       "      <td>1.90</td>\n",
       "    </tr>\n",
       "    <tr>\n",
       "      <th>2</th>\n",
       "      <td>Beam-Draught Ratio</td>\n",
       "      <td>0.99</td>\n",
       "      <td>1.46</td>\n",
       "    </tr>\n",
       "    <tr>\n",
       "      <th>3</th>\n",
       "      <td>Longitudinal Position</td>\n",
       "      <td>0.99</td>\n",
       "      <td>1.46</td>\n",
       "    </tr>\n",
       "    <tr>\n",
       "      <th>4</th>\n",
       "      <td>Length-Displacement</td>\n",
       "      <td>0.99</td>\n",
       "      <td>1.46</td>\n",
       "    </tr>\n",
       "    <tr>\n",
       "      <th>5</th>\n",
       "      <td>Prismatic Coeefficient</td>\n",
       "      <td>0.99</td>\n",
       "      <td>1.46</td>\n",
       "    </tr>\n",
       "    <tr>\n",
       "      <th>6</th>\n",
       "      <td>Length-Beam Ratio</td>\n",
       "      <td>0.99</td>\n",
       "      <td>1.46</td>\n",
       "    </tr>\n",
       "  </tbody>\n",
       "</table>\n",
       "</div>"
      ],
      "text/plain": [
       "                               Variable Running Achievable R-Squared  \\\n",
       "Selection Order                                                        \n",
       "0                           No Variable                         0.00   \n",
       "1                         Froude Number                         0.98   \n",
       "2                    Beam-Draught Ratio                         0.99   \n",
       "3                 Longitudinal Position                         0.99   \n",
       "4                   Length-Displacement                         0.99   \n",
       "5                Prismatic Coeefficient                         0.99   \n",
       "6                     Length-Beam Ratio                         0.99   \n",
       "\n",
       "                Running Achievable RMSE  \n",
       "Selection Order                          \n",
       "0                              1.51e+01  \n",
       "1                                  1.90  \n",
       "2                                  1.46  \n",
       "3                                  1.46  \n",
       "4                                  1.46  \n",
       "5                                  1.46  \n",
       "6                                  1.46  "
      ]
     },
     "execution_count": 5,
     "metadata": {},
     "output_type": "execute_result"
    }
   ],
   "source": [
    "df.kxy.variable_selection(y_column, problem_type=problem_type)"
   ]
  }
 ],
 "metadata": {
  "kernelspec": {
   "display_name": "kxy",
   "language": "python",
   "name": "kxy"
  },
  "language_info": {
   "codemirror_mode": {
    "name": "ipython",
    "version": 3
   },
   "file_extension": ".py",
   "mimetype": "text/x-python",
   "name": "python",
   "nbconvert_exporter": "python",
   "pygments_lexer": "ipython3",
   "version": "3.7.10"
  }
 },
 "nbformat": 4,
 "nbformat_minor": 4
}
