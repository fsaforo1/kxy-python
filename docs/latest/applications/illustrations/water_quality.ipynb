{
 "cells": [
  {
   "cell_type": "markdown",
   "metadata": {},
   "source": [
    "# Water Quality (Kaggle, Classification, n=3276, d=9, 2 classes)"
   ]
  },
  {
   "cell_type": "markdown",
   "metadata": {},
   "source": [
    "## Loading The Data"
   ]
  },
  {
   "cell_type": "code",
   "execution_count": 1,
   "metadata": {},
   "outputs": [],
   "source": [
    "from kxy_datasets.kaggle_classifications import WaterQuality # pip install kxy_datasets"
   ]
  },
  {
   "cell_type": "code",
   "execution_count": 2,
   "metadata": {},
   "outputs": [
    {
     "name": "stderr",
     "output_type": "stream",
     "text": [
      "INFO:botocore.credentials:Found credentials in shared credentials file: ~/.aws/credentials\n"
     ]
    }
   ],
   "source": [
    "dataset = WaterQuality()\n",
    "df = dataset.df # Retrieve the dataset as a pandas dataframe\n",
    "y_column = dataset.y_column # The name of the column corresponding to the target\n",
    "problem_type = dataset.problem_type # 'regression' or 'classification'"
   ]
  },
  {
   "cell_type": "code",
   "execution_count": 3,
   "metadata": {
    "scrolled": false
   },
   "outputs": [
    {
     "name": "stdout",
     "output_type": "stream",
     "text": [
      "         \n",
      "-------------------\n",
      "Column: Chloramines\n",
      "-------------------\n",
      "Type:   Continuous\n",
      "Max:    13\n",
      "p75:    8.1\n",
      "Mean:   7.1\n",
      "Median: 7.1\n",
      "p25:    6.1\n",
      "Min:    0.4\n",
      "         \n",
      "--------------------\n",
      "Column: Conductivity\n",
      "--------------------\n",
      "Type:   Continuous\n",
      "Max:    753\n",
      "p75:    481\n",
      "Mean:   426\n",
      "Median: 421\n",
      "p25:    365\n",
      "Min:    181\n",
      "         \n",
      "----------------\n",
      "Column: Hardness\n",
      "----------------\n",
      "Type:   Continuous\n",
      "Max:    323\n",
      "p75:    216\n",
      "Mean:   196\n",
      "Median: 196\n",
      "p25:    176\n",
      "Min:    47\n",
      "         \n",
      "----------------------\n",
      "Column: Organic_carbon\n",
      "----------------------\n",
      "Type:   Continuous\n",
      "Max:    28\n",
      "p75:    16\n",
      "Mean:   14\n",
      "Median: 14\n",
      "p25:    12\n",
      "Min:    2.2\n",
      "         \n",
      "------------------\n",
      "Column: Potability\n",
      "------------------\n",
      "Type:   Continuous\n",
      "Max:    1.0\n",
      "p75:    1.0\n",
      "Mean:   0.4\n",
      "Median: 0.0\n",
      "p25:    0.0\n",
      "Min:    0.0\n",
      "         \n",
      "--------------\n",
      "Column: Solids\n",
      "--------------\n",
      "Type:   Continuous\n",
      "Max:    61,227\n",
      "p75:    27,332\n",
      "Mean:   22,014\n",
      "Median: 20,927\n",
      "p25:    15,666\n",
      "Min:    320\n",
      "         \n",
      "---------------\n",
      "Column: Sulfate\n",
      "---------------\n",
      "Type:   Continuous\n",
      "Max:    481\n",
      "p75:    359\n",
      "Mean:   333\n",
      "Median: 333\n",
      "p25:    307\n",
      "Min:    129\n",
      "         \n",
      "-----------------------\n",
      "Column: Trihalomethanes\n",
      "-----------------------\n",
      "Type:   Continuous\n",
      "Max:    124\n",
      "p75:    77\n",
      "Mean:   66\n",
      "Median: 66\n",
      "p25:    55\n",
      "Min:    0.7\n",
      "         \n",
      "-----------------\n",
      "Column: Turbidity\n",
      "-----------------\n",
      "Type:   Continuous\n",
      "Max:    6.7\n",
      "p75:    4.5\n",
      "Mean:   4.0\n",
      "Median: 4.0\n",
      "p25:    3.4\n",
      "Min:    1.4\n",
      "         \n",
      "----------\n",
      "Column: ph\n",
      "----------\n",
      "Type:   Continuous\n",
      "Max:    13\n",
      "p75:    8.1\n",
      "Mean:   7.1\n",
      "Median: 7.0\n",
      "p25:    6.1\n",
      "Min:    0.0\n"
     ]
    }
   ],
   "source": [
    "df.kxy.describe() # Visualize a summary of the data"
   ]
  },
  {
   "cell_type": "markdown",
   "metadata": {},
   "source": [
    "## Data Valuation"
   ]
  },
  {
   "cell_type": "code",
   "execution_count": 4,
   "metadata": {},
   "outputs": [
    {
     "name": "stdout",
     "output_type": "stream",
     "text": [
      "[====================================================================================================] 100% ETA: 0s    Duration: 0s\n"
     ]
    },
    {
     "data": {
      "text/html": [
       "<div>\n",
       "<style scoped>\n",
       "    .dataframe tbody tr th:only-of-type {\n",
       "        vertical-align: middle;\n",
       "    }\n",
       "\n",
       "    .dataframe tbody tr th {\n",
       "        vertical-align: top;\n",
       "    }\n",
       "\n",
       "    .dataframe thead th {\n",
       "        text-align: right;\n",
       "    }\n",
       "</style>\n",
       "<table border=\"1\" class=\"dataframe\">\n",
       "  <thead>\n",
       "    <tr style=\"text-align: right;\">\n",
       "      <th></th>\n",
       "      <th>Achievable R-Squared</th>\n",
       "      <th>Achievable Log-Likelihood Per Sample</th>\n",
       "      <th>Achievable Accuracy</th>\n",
       "    </tr>\n",
       "  </thead>\n",
       "  <tbody>\n",
       "    <tr>\n",
       "      <th>0</th>\n",
       "      <td>0.04</td>\n",
       "      <td>-6.50e-01</td>\n",
       "      <td>0.65</td>\n",
       "    </tr>\n",
       "  </tbody>\n",
       "</table>\n",
       "</div>"
      ],
      "text/plain": [
       "  Achievable R-Squared Achievable Log-Likelihood Per Sample  \\\n",
       "0                 0.04                            -6.50e-01   \n",
       "\n",
       "  Achievable Accuracy  \n",
       "0                0.65  "
      ]
     },
     "execution_count": 4,
     "metadata": {},
     "output_type": "execute_result"
    }
   ],
   "source": [
    "df.kxy.data_valuation(y_column, problem_type=problem_type)"
   ]
  },
  {
   "cell_type": "markdown",
   "metadata": {},
   "source": [
    "## Automatic (Model-Free) Variable Selection"
   ]
  },
  {
   "cell_type": "code",
   "execution_count": 5,
   "metadata": {
    "scrolled": false
   },
   "outputs": [
    {
     "name": "stdout",
     "output_type": "stream",
     "text": [
      "[====================================================================================================] 100% ETA: 0s    Duration: 0s\n"
     ]
    },
    {
     "data": {
      "text/html": [
       "<div>\n",
       "<style scoped>\n",
       "    .dataframe tbody tr th:only-of-type {\n",
       "        vertical-align: middle;\n",
       "    }\n",
       "\n",
       "    .dataframe tbody tr th {\n",
       "        vertical-align: top;\n",
       "    }\n",
       "\n",
       "    .dataframe thead th {\n",
       "        text-align: right;\n",
       "    }\n",
       "</style>\n",
       "<table border=\"1\" class=\"dataframe\">\n",
       "  <thead>\n",
       "    <tr style=\"text-align: right;\">\n",
       "      <th></th>\n",
       "      <th>Variable</th>\n",
       "      <th>Running Achievable R-Squared</th>\n",
       "      <th>Running Achievable Accuracy</th>\n",
       "    </tr>\n",
       "    <tr>\n",
       "      <th>Selection Order</th>\n",
       "      <th></th>\n",
       "      <th></th>\n",
       "      <th></th>\n",
       "    </tr>\n",
       "  </thead>\n",
       "  <tbody>\n",
       "    <tr>\n",
       "      <th>0</th>\n",
       "      <td>No Variable</td>\n",
       "      <td>0.00</td>\n",
       "      <td>0.61</td>\n",
       "    </tr>\n",
       "    <tr>\n",
       "      <th>1</th>\n",
       "      <td>ph</td>\n",
       "      <td>0.01</td>\n",
       "      <td>0.62</td>\n",
       "    </tr>\n",
       "    <tr>\n",
       "      <th>2</th>\n",
       "      <td>Sulfate</td>\n",
       "      <td>0.04</td>\n",
       "      <td>0.65</td>\n",
       "    </tr>\n",
       "    <tr>\n",
       "      <th>3</th>\n",
       "      <td>Chloramines</td>\n",
       "      <td>0.04</td>\n",
       "      <td>0.65</td>\n",
       "    </tr>\n",
       "    <tr>\n",
       "      <th>4</th>\n",
       "      <td>Hardness</td>\n",
       "      <td>0.04</td>\n",
       "      <td>0.65</td>\n",
       "    </tr>\n",
       "    <tr>\n",
       "      <th>5</th>\n",
       "      <td>Solids</td>\n",
       "      <td>0.04</td>\n",
       "      <td>0.65</td>\n",
       "    </tr>\n",
       "    <tr>\n",
       "      <th>6</th>\n",
       "      <td>Organic_carbon</td>\n",
       "      <td>0.04</td>\n",
       "      <td>0.65</td>\n",
       "    </tr>\n",
       "    <tr>\n",
       "      <th>7</th>\n",
       "      <td>Conductivity</td>\n",
       "      <td>0.04</td>\n",
       "      <td>0.65</td>\n",
       "    </tr>\n",
       "    <tr>\n",
       "      <th>8</th>\n",
       "      <td>Turbidity</td>\n",
       "      <td>0.04</td>\n",
       "      <td>0.65</td>\n",
       "    </tr>\n",
       "    <tr>\n",
       "      <th>9</th>\n",
       "      <td>Trihalomethanes</td>\n",
       "      <td>0.04</td>\n",
       "      <td>0.65</td>\n",
       "    </tr>\n",
       "  </tbody>\n",
       "</table>\n",
       "</div>"
      ],
      "text/plain": [
       "                        Variable Running Achievable R-Squared  \\\n",
       "Selection Order                                                 \n",
       "0                    No Variable                         0.00   \n",
       "1                             ph                         0.01   \n",
       "2                        Sulfate                         0.04   \n",
       "3                    Chloramines                         0.04   \n",
       "4                       Hardness                         0.04   \n",
       "5                         Solids                         0.04   \n",
       "6                 Organic_carbon                         0.04   \n",
       "7                   Conductivity                         0.04   \n",
       "8                      Turbidity                         0.04   \n",
       "9                Trihalomethanes                         0.04   \n",
       "\n",
       "                Running Achievable Accuracy  \n",
       "Selection Order                              \n",
       "0                                      0.61  \n",
       "1                                      0.62  \n",
       "2                                      0.65  \n",
       "3                                      0.65  \n",
       "4                                      0.65  \n",
       "5                                      0.65  \n",
       "6                                      0.65  \n",
       "7                                      0.65  \n",
       "8                                      0.65  \n",
       "9                                      0.65  "
      ]
     },
     "execution_count": 5,
     "metadata": {},
     "output_type": "execute_result"
    }
   ],
   "source": [
    "df.kxy.variable_selection(y_column, problem_type=problem_type)"
   ]
  }
 ],
 "metadata": {
  "kernelspec": {
   "display_name": "kxy",
   "language": "python",
   "name": "kxy"
  },
  "language_info": {
   "codemirror_mode": {
    "name": "ipython",
    "version": 3
   },
   "file_extension": ".py",
   "mimetype": "text/x-python",
   "name": "python",
   "nbconvert_exporter": "python",
   "pygments_lexer": "ipython3",
   "version": "3.7.10"
  }
 },
 "nbformat": 4,
 "nbformat_minor": 4
}
