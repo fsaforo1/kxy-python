{
 "cells": [
  {
   "cell_type": "markdown",
   "metadata": {},
   "source": [
    "# Shuttle (UCI, Classification, n=58000, d=9, 7 classes)"
   ]
  },
  {
   "cell_type": "markdown",
   "metadata": {},
   "source": [
    "## Loading The Data"
   ]
  },
  {
   "cell_type": "code",
   "execution_count": 1,
   "metadata": {},
   "outputs": [],
   "source": [
    "from kxy_datasets.uci_classifications import Shuttle # pip install kxy_datasets"
   ]
  },
  {
   "cell_type": "code",
   "execution_count": 2,
   "metadata": {},
   "outputs": [],
   "source": [
    "dataset = Shuttle()\n",
    "df = dataset.df # Retrieve the dataset as a pandas dataframe\n",
    "y_column = dataset.y_column # The name of the column corresponding to the target\n",
    "problem_type = dataset.problem_type # 'regression' or 'classification'"
   ]
  },
  {
   "cell_type": "code",
   "execution_count": 3,
   "metadata": {
    "scrolled": false
   },
   "outputs": [
    {
     "name": "stdout",
     "output_type": "stream",
     "text": [
      "         \n",
      "-----------\n",
      "Column: x_0\n",
      "-----------\n",
      "Type:   Continuous\n",
      "Max:    126\n",
      "p75:    55\n",
      "Mean:   48\n",
      "Median: 45\n",
      "p25:    38\n",
      "Min:    27\n",
      "         \n",
      "-----------\n",
      "Column: x_1\n",
      "-----------\n",
      "Type:   Continuous\n",
      "Max:    5,075\n",
      "p75:    0.0\n",
      "Mean:   -0.0\n",
      "Median: 0.0\n",
      "p25:    0.0\n",
      "Min:    -4821.0\n",
      "         \n",
      "-----------\n",
      "Column: x_2\n",
      "-----------\n",
      "Type:   Continuous\n",
      "Max:    149\n",
      "p75:    89\n",
      "Mean:   85\n",
      "Median: 83\n",
      "p25:    79\n",
      "Min:    21\n",
      "         \n",
      "-----------\n",
      "Column: x_3\n",
      "-----------\n",
      "Type:   Continuous\n",
      "Max:    3,830\n",
      "p75:    0.0\n",
      "Mean:   0.3\n",
      "Median: 0.0\n",
      "p25:    0.0\n",
      "Min:    -3939.0\n",
      "         \n",
      "-----------\n",
      "Column: x_4\n",
      "-----------\n",
      "Type:   Continuous\n",
      "Max:    436\n",
      "p75:    46\n",
      "Mean:   34\n",
      "Median: 42\n",
      "p25:    26\n",
      "Min:    -188.0\n",
      "         \n",
      "-----------\n",
      "Column: x_5\n",
      "-----------\n",
      "Type:   Continuous\n",
      "Max:    15,164\n",
      "p75:    5.0\n",
      "Mean:   1.6\n",
      "Median: 0.0\n",
      "p25:    -5.0\n",
      "Min:    -26739.0\n",
      "         \n",
      "-----------\n",
      "Column: x_6\n",
      "-----------\n",
      "Type:   Continuous\n",
      "Max:    105\n",
      "p75:    42\n",
      "Mean:   37\n",
      "Median: 39\n",
      "p25:    32\n",
      "Min:    -48.0\n",
      "         \n",
      "-----------\n",
      "Column: x_7\n",
      "-----------\n",
      "Type:   Continuous\n",
      "Max:    270\n",
      "p75:    60\n",
      "Mean:   50\n",
      "Median: 44\n",
      "p25:    37\n",
      "Min:    -353.0\n",
      "         \n",
      "-----------\n",
      "Column: x_8\n",
      "-----------\n",
      "Type:   Continuous\n",
      "Max:    266\n",
      "p75:    14\n",
      "Mean:   13\n",
      "Median: 2.0\n",
      "p25:    0.0\n",
      "Min:    -356.0\n",
      "         \n",
      "---------\n",
      "Column: y\n",
      "---------\n",
      "Type:   Continuous\n",
      "Max:    7.0\n",
      "p75:    1.0\n",
      "Mean:   1.7\n",
      "Median: 1.0\n",
      "p25:    1.0\n",
      "Min:    1.0\n"
     ]
    }
   ],
   "source": [
    "df.kxy.describe() # Visualize a summary of the data"
   ]
  },
  {
   "cell_type": "markdown",
   "metadata": {},
   "source": [
    "## Data Valuation"
   ]
  },
  {
   "cell_type": "code",
   "execution_count": 4,
   "metadata": {},
   "outputs": [
    {
     "name": "stdout",
     "output_type": "stream",
     "text": [
      "[====================================================================================================] 100% ETA: 0s    Duration: 0s\n"
     ]
    },
    {
     "data": {
      "text/html": [
       "<div>\n",
       "<style scoped>\n",
       "    .dataframe tbody tr th:only-of-type {\n",
       "        vertical-align: middle;\n",
       "    }\n",
       "\n",
       "    .dataframe tbody tr th {\n",
       "        vertical-align: top;\n",
       "    }\n",
       "\n",
       "    .dataframe thead th {\n",
       "        text-align: right;\n",
       "    }\n",
       "</style>\n",
       "<table border=\"1\" class=\"dataframe\">\n",
       "  <thead>\n",
       "    <tr style=\"text-align: right;\">\n",
       "      <th></th>\n",
       "      <th>Achievable R-Squared</th>\n",
       "      <th>Achievable Log-Likelihood Per Sample</th>\n",
       "      <th>Achievable Accuracy</th>\n",
       "    </tr>\n",
       "  </thead>\n",
       "  <tbody>\n",
       "    <tr>\n",
       "      <th>0</th>\n",
       "      <td>0.74</td>\n",
       "      <td>0.00</td>\n",
       "      <td>1.00</td>\n",
       "    </tr>\n",
       "  </tbody>\n",
       "</table>\n",
       "</div>"
      ],
      "text/plain": [
       "  Achievable R-Squared Achievable Log-Likelihood Per Sample  \\\n",
       "0                 0.74                                 0.00   \n",
       "\n",
       "  Achievable Accuracy  \n",
       "0                1.00  "
      ]
     },
     "execution_count": 4,
     "metadata": {},
     "output_type": "execute_result"
    }
   ],
   "source": [
    "df.kxy.data_valuation(y_column, problem_type=problem_type)"
   ]
  },
  {
   "cell_type": "markdown",
   "metadata": {},
   "source": [
    "## Automatic (Model-Free) Variable Selection"
   ]
  },
  {
   "cell_type": "code",
   "execution_count": 5,
   "metadata": {
    "scrolled": false
   },
   "outputs": [
    {
     "name": "stdout",
     "output_type": "stream",
     "text": [
      "[====================================================================================================] 100% ETA: 0s    Duration: 0s\n"
     ]
    },
    {
     "data": {
      "text/html": [
       "<div>\n",
       "<style scoped>\n",
       "    .dataframe tbody tr th:only-of-type {\n",
       "        vertical-align: middle;\n",
       "    }\n",
       "\n",
       "    .dataframe tbody tr th {\n",
       "        vertical-align: top;\n",
       "    }\n",
       "\n",
       "    .dataframe thead th {\n",
       "        text-align: right;\n",
       "    }\n",
       "</style>\n",
       "<table border=\"1\" class=\"dataframe\">\n",
       "  <thead>\n",
       "    <tr style=\"text-align: right;\">\n",
       "      <th></th>\n",
       "      <th>Variable</th>\n",
       "      <th>Running Achievable R-Squared</th>\n",
       "      <th>Running Achievable Accuracy</th>\n",
       "    </tr>\n",
       "    <tr>\n",
       "      <th>Selection Order</th>\n",
       "      <th></th>\n",
       "      <th></th>\n",
       "      <th></th>\n",
       "    </tr>\n",
       "  </thead>\n",
       "  <tbody>\n",
       "    <tr>\n",
       "      <th>0</th>\n",
       "      <td>No Variable</td>\n",
       "      <td>0.00</td>\n",
       "      <td>0.79</td>\n",
       "    </tr>\n",
       "    <tr>\n",
       "      <th>1</th>\n",
       "      <td>x_0</td>\n",
       "      <td>0.65</td>\n",
       "      <td>1.00</td>\n",
       "    </tr>\n",
       "    <tr>\n",
       "      <th>2</th>\n",
       "      <td>x_8</td>\n",
       "      <td>0.73</td>\n",
       "      <td>1.00</td>\n",
       "    </tr>\n",
       "    <tr>\n",
       "      <th>3</th>\n",
       "      <td>x_1</td>\n",
       "      <td>0.74</td>\n",
       "      <td>1.00</td>\n",
       "    </tr>\n",
       "    <tr>\n",
       "      <th>4</th>\n",
       "      <td>x_3</td>\n",
       "      <td>0.74</td>\n",
       "      <td>1.00</td>\n",
       "    </tr>\n",
       "    <tr>\n",
       "      <th>5</th>\n",
       "      <td>x_2</td>\n",
       "      <td>0.74</td>\n",
       "      <td>1.00</td>\n",
       "    </tr>\n",
       "    <tr>\n",
       "      <th>6</th>\n",
       "      <td>x_5</td>\n",
       "      <td>0.74</td>\n",
       "      <td>1.00</td>\n",
       "    </tr>\n",
       "    <tr>\n",
       "      <th>7</th>\n",
       "      <td>x_4</td>\n",
       "      <td>0.74</td>\n",
       "      <td>1.00</td>\n",
       "    </tr>\n",
       "    <tr>\n",
       "      <th>8</th>\n",
       "      <td>x_6</td>\n",
       "      <td>0.74</td>\n",
       "      <td>1.00</td>\n",
       "    </tr>\n",
       "    <tr>\n",
       "      <th>9</th>\n",
       "      <td>x_7</td>\n",
       "      <td>0.74</td>\n",
       "      <td>1.00</td>\n",
       "    </tr>\n",
       "  </tbody>\n",
       "</table>\n",
       "</div>"
      ],
      "text/plain": [
       "                    Variable Running Achievable R-Squared  \\\n",
       "Selection Order                                             \n",
       "0                No Variable                         0.00   \n",
       "1                        x_0                         0.65   \n",
       "2                        x_8                         0.73   \n",
       "3                        x_1                         0.74   \n",
       "4                        x_3                         0.74   \n",
       "5                        x_2                         0.74   \n",
       "6                        x_5                         0.74   \n",
       "7                        x_4                         0.74   \n",
       "8                        x_6                         0.74   \n",
       "9                        x_7                         0.74   \n",
       "\n",
       "                Running Achievable Accuracy  \n",
       "Selection Order                              \n",
       "0                                      0.79  \n",
       "1                                      1.00  \n",
       "2                                      1.00  \n",
       "3                                      1.00  \n",
       "4                                      1.00  \n",
       "5                                      1.00  \n",
       "6                                      1.00  \n",
       "7                                      1.00  \n",
       "8                                      1.00  \n",
       "9                                      1.00  "
      ]
     },
     "execution_count": 5,
     "metadata": {},
     "output_type": "execute_result"
    }
   ],
   "source": [
    "df.kxy.variable_selection(y_column, problem_type=problem_type)"
   ]
  }
 ],
 "metadata": {
  "kernelspec": {
   "display_name": "kxy",
   "language": "python",
   "name": "kxy"
  },
  "language_info": {
   "codemirror_mode": {
    "name": "ipython",
    "version": 3
   },
   "file_extension": ".py",
   "mimetype": "text/x-python",
   "name": "python",
   "nbconvert_exporter": "python",
   "pygments_lexer": "ipython3",
   "version": "3.7.10"
  }
 },
 "nbformat": 4,
 "nbformat_minor": 4
}
