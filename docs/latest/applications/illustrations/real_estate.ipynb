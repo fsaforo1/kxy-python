{
 "cells": [
  {
   "cell_type": "markdown",
   "metadata": {},
   "source": [
    "# Real Estate (UCI, Regression, n=414, d=6)"
   ]
  },
  {
   "cell_type": "markdown",
   "metadata": {},
   "source": [
    "## Loading The Data"
   ]
  },
  {
   "cell_type": "code",
   "execution_count": 1,
   "metadata": {},
   "outputs": [],
   "source": [
    "from kxy_datasets.uci_regressions import RealEstate # pip install kxy_datasets"
   ]
  },
  {
   "cell_type": "code",
   "execution_count": 2,
   "metadata": {},
   "outputs": [],
   "source": [
    "dataset = RealEstate()\n",
    "df = dataset.df # Retrieve the dataset as a pandas dataframe\n",
    "y_column = dataset.y_column # The name of the column corresponding to the target\n",
    "problem_type = dataset.problem_type # 'regression' or 'classification'"
   ]
  },
  {
   "cell_type": "code",
   "execution_count": 3,
   "metadata": {
    "scrolled": false
   },
   "outputs": [
    {
     "name": "stdout",
     "output_type": "stream",
     "text": [
      "         \n",
      "---------------------------\n",
      "Column: X1 transaction date\n",
      "---------------------------\n",
      "Type:   Continuous\n",
      "Max:    2,013\n",
      "p75:    2,013\n",
      "Mean:   2,013\n",
      "Median: 2,013\n",
      "p25:    2,012\n",
      "Min:    2,012\n",
      "         \n",
      "--------------------\n",
      "Column: X2 house age\n",
      "--------------------\n",
      "Type:   Continuous\n",
      "Max:    43\n",
      "p75:    28\n",
      "Mean:   17\n",
      "Median: 16\n",
      "p25:    9.0\n",
      "Min:    0.0\n",
      "         \n",
      "----------------------------------------------\n",
      "Column: X3 distance to the nearest MRT station\n",
      "----------------------------------------------\n",
      "Type:   Continuous\n",
      "Max:    6,488\n",
      "p75:    1,454\n",
      "Mean:   1,083\n",
      "Median: 492\n",
      "p25:    289\n",
      "Min:    23\n",
      "         \n",
      "---------------------------------------\n",
      "Column: X4 number of convenience stores\n",
      "---------------------------------------\n",
      "Type:   Continuous\n",
      "Max:    10\n",
      "p75:    6.0\n",
      "Mean:   4.1\n",
      "Median: 4.0\n",
      "p25:    1.0\n",
      "Min:    0.0\n",
      "         \n",
      "-------------------\n",
      "Column: X5 latitude\n",
      "-------------------\n",
      "Type:   Continuous\n",
      "Max:    25\n",
      "p75:    24\n",
      "Mean:   24\n",
      "Median: 24\n",
      "p25:    24\n",
      "Min:    24\n",
      "         \n",
      "--------------------\n",
      "Column: X6 longitude\n",
      "--------------------\n",
      "Type:   Continuous\n",
      "Max:    121\n",
      "p75:    121\n",
      "Mean:   121\n",
      "Median: 121\n",
      "p25:    121\n",
      "Min:    121\n",
      "         \n",
      "----------------------------------\n",
      "Column: Y house price of unit area\n",
      "----------------------------------\n",
      "Type:   Continuous\n",
      "Max:    117\n",
      "p75:    46\n",
      "Mean:   37\n",
      "Median: 38\n",
      "p25:    27\n",
      "Min:    7.6\n"
     ]
    }
   ],
   "source": [
    "df.kxy.describe() # Visualize a summary of the data"
   ]
  },
  {
   "cell_type": "markdown",
   "metadata": {},
   "source": [
    "## Data Valuation"
   ]
  },
  {
   "cell_type": "code",
   "execution_count": 4,
   "metadata": {},
   "outputs": [
    {
     "name": "stdout",
     "output_type": "stream",
     "text": [
      "[====================================================================================================] 100% ETA: 0s    Duration: 0s\n"
     ]
    },
    {
     "data": {
      "text/html": [
       "<div>\n",
       "<style scoped>\n",
       "    .dataframe tbody tr th:only-of-type {\n",
       "        vertical-align: middle;\n",
       "    }\n",
       "\n",
       "    .dataframe tbody tr th {\n",
       "        vertical-align: top;\n",
       "    }\n",
       "\n",
       "    .dataframe thead th {\n",
       "        text-align: right;\n",
       "    }\n",
       "</style>\n",
       "<table border=\"1\" class=\"dataframe\">\n",
       "  <thead>\n",
       "    <tr style=\"text-align: right;\">\n",
       "      <th></th>\n",
       "      <th>Achievable R-Squared</th>\n",
       "      <th>Achievable Log-Likelihood Per Sample</th>\n",
       "      <th>Achievable RMSE</th>\n",
       "    </tr>\n",
       "  </thead>\n",
       "  <tbody>\n",
       "    <tr>\n",
       "      <th>0</th>\n",
       "      <td>0.80</td>\n",
       "      <td>-3.23</td>\n",
       "      <td>6.05</td>\n",
       "    </tr>\n",
       "  </tbody>\n",
       "</table>\n",
       "</div>"
      ],
      "text/plain": [
       "  Achievable R-Squared Achievable Log-Likelihood Per Sample Achievable RMSE\n",
       "0                 0.80                                -3.23            6.05"
      ]
     },
     "execution_count": 4,
     "metadata": {},
     "output_type": "execute_result"
    }
   ],
   "source": [
    "df.kxy.data_valuation(y_column, problem_type=problem_type)"
   ]
  },
  {
   "cell_type": "markdown",
   "metadata": {},
   "source": [
    "## Automatic (Model-Free) Variable Selection"
   ]
  },
  {
   "cell_type": "code",
   "execution_count": 5,
   "metadata": {
    "scrolled": false
   },
   "outputs": [
    {
     "name": "stdout",
     "output_type": "stream",
     "text": [
      "[====================================================================================================] 100% ETA: 0s    Duration: 0s\n"
     ]
    },
    {
     "data": {
      "text/html": [
       "<div>\n",
       "<style scoped>\n",
       "    .dataframe tbody tr th:only-of-type {\n",
       "        vertical-align: middle;\n",
       "    }\n",
       "\n",
       "    .dataframe tbody tr th {\n",
       "        vertical-align: top;\n",
       "    }\n",
       "\n",
       "    .dataframe thead th {\n",
       "        text-align: right;\n",
       "    }\n",
       "</style>\n",
       "<table border=\"1\" class=\"dataframe\">\n",
       "  <thead>\n",
       "    <tr style=\"text-align: right;\">\n",
       "      <th></th>\n",
       "      <th>Variable</th>\n",
       "      <th>Running Achievable R-Squared</th>\n",
       "      <th>Running Achievable RMSE</th>\n",
       "    </tr>\n",
       "    <tr>\n",
       "      <th>Selection Order</th>\n",
       "      <th></th>\n",
       "      <th></th>\n",
       "      <th></th>\n",
       "    </tr>\n",
       "  </thead>\n",
       "  <tbody>\n",
       "    <tr>\n",
       "      <th>0</th>\n",
       "      <td>No Variable</td>\n",
       "      <td>0.00</td>\n",
       "      <td>1.36e+01</td>\n",
       "    </tr>\n",
       "    <tr>\n",
       "      <th>1</th>\n",
       "      <td>X3 distance to the nearest MRT station</td>\n",
       "      <td>0.70</td>\n",
       "      <td>7.49</td>\n",
       "    </tr>\n",
       "    <tr>\n",
       "      <th>2</th>\n",
       "      <td>X5 latitude</td>\n",
       "      <td>0.70</td>\n",
       "      <td>7.49</td>\n",
       "    </tr>\n",
       "    <tr>\n",
       "      <th>3</th>\n",
       "      <td>X2 house age</td>\n",
       "      <td>0.70</td>\n",
       "      <td>7.49</td>\n",
       "    </tr>\n",
       "    <tr>\n",
       "      <th>4</th>\n",
       "      <td>X1 transaction date</td>\n",
       "      <td>0.80</td>\n",
       "      <td>6.05</td>\n",
       "    </tr>\n",
       "    <tr>\n",
       "      <th>5</th>\n",
       "      <td>X4 number of convenience stores</td>\n",
       "      <td>0.80</td>\n",
       "      <td>6.05</td>\n",
       "    </tr>\n",
       "    <tr>\n",
       "      <th>6</th>\n",
       "      <td>X6 longitude</td>\n",
       "      <td>0.80</td>\n",
       "      <td>6.05</td>\n",
       "    </tr>\n",
       "  </tbody>\n",
       "</table>\n",
       "</div>"
      ],
      "text/plain": [
       "                                               Variable  \\\n",
       "Selection Order                                           \n",
       "0                                           No Variable   \n",
       "1                X3 distance to the nearest MRT station   \n",
       "2                                           X5 latitude   \n",
       "3                                          X2 house age   \n",
       "4                                   X1 transaction date   \n",
       "5                       X4 number of convenience stores   \n",
       "6                                          X6 longitude   \n",
       "\n",
       "                Running Achievable R-Squared Running Achievable RMSE  \n",
       "Selection Order                                                       \n",
       "0                                       0.00                1.36e+01  \n",
       "1                                       0.70                    7.49  \n",
       "2                                       0.70                    7.49  \n",
       "3                                       0.70                    7.49  \n",
       "4                                       0.80                    6.05  \n",
       "5                                       0.80                    6.05  \n",
       "6                                       0.80                    6.05  "
      ]
     },
     "execution_count": 5,
     "metadata": {},
     "output_type": "execute_result"
    }
   ],
   "source": [
    "df.kxy.variable_selection(y_column, problem_type=problem_type)"
   ]
  }
 ],
 "metadata": {
  "kernelspec": {
   "display_name": "kxy",
   "language": "python",
   "name": "kxy"
  },
  "language_info": {
   "codemirror_mode": {
    "name": "ipython",
    "version": 3
   },
   "file_extension": ".py",
   "mimetype": "text/x-python",
   "name": "python",
   "nbconvert_exporter": "python",
   "pygments_lexer": "ipython3",
   "version": "3.7.10"
  }
 },
 "nbformat": 4,
 "nbformat_minor": 4
}
