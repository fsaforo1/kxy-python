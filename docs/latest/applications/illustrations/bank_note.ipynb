{
 "cells": [
  {
   "cell_type": "markdown",
   "metadata": {},
   "source": [
    "# Bank Note (UCI, Classification, n=1372, d=4, 2 classes)"
   ]
  },
  {
   "cell_type": "markdown",
   "metadata": {},
   "source": [
    "## Loading The Data"
   ]
  },
  {
   "cell_type": "code",
   "execution_count": 1,
   "metadata": {},
   "outputs": [],
   "source": [
    "from kxy_datasets.uci_classifications import BankNote # pip install kxy_datasets"
   ]
  },
  {
   "cell_type": "code",
   "execution_count": 2,
   "metadata": {},
   "outputs": [],
   "source": [
    "dataset = BankNote()\n",
    "df = dataset.df # Retrieve the dataset as a pandas dataframe\n",
    "y_column = dataset.y_column # The name of the column corresponding to the target\n",
    "problem_type = dataset.problem_type # 'regression' or 'classification'"
   ]
  },
  {
   "cell_type": "code",
   "execution_count": 3,
   "metadata": {
    "scrolled": false
   },
   "outputs": [
    {
     "name": "stdout",
     "output_type": "stream",
     "text": [
      "         \n",
      "---------------\n",
      "Column: Entropy\n",
      "---------------\n",
      "Type:   Continuous\n",
      "Max:    2.4\n",
      "p75:    0.4\n",
      "Mean:   -1.2\n",
      "Median: -0.6\n",
      "p25:    -2.4\n",
      "Min:    -8.5\n",
      "         \n",
      "---------------\n",
      "Column: Is Fake\n",
      "---------------\n",
      "Type:   Continuous\n",
      "Max:    1.0\n",
      "p75:    1.0\n",
      "Mean:   0.4\n",
      "Median: 0.0\n",
      "p25:    0.0\n",
      "Min:    0.0\n",
      "         \n",
      "----------------\n",
      "Column: Kurtosis\n",
      "----------------\n",
      "Type:   Continuous\n",
      "Max:    17\n",
      "p75:    3.2\n",
      "Mean:   1.4\n",
      "Median: 0.6\n",
      "p25:    -1.6\n",
      "Min:    -5.3\n",
      "         \n",
      "----------------\n",
      "Column: Skewness\n",
      "----------------\n",
      "Type:   Continuous\n",
      "Max:    12\n",
      "p75:    6.8\n",
      "Mean:   1.9\n",
      "Median: 2.3\n",
      "p25:    -1.7\n",
      "Min:    -13.8\n",
      "         \n",
      "----------------\n",
      "Column: Variance\n",
      "----------------\n",
      "Type:   Continuous\n",
      "Max:    6.8\n",
      "p75:    2.8\n",
      "Mean:   0.4\n",
      "Median: 0.5\n",
      "p25:    -1.8\n",
      "Min:    -7.0\n"
     ]
    }
   ],
   "source": [
    "df.kxy.describe() # Visualize a summary of the data"
   ]
  },
  {
   "cell_type": "markdown",
   "metadata": {},
   "source": [
    "## Data Valuation"
   ]
  },
  {
   "cell_type": "code",
   "execution_count": 4,
   "metadata": {},
   "outputs": [
    {
     "name": "stdout",
     "output_type": "stream",
     "text": [
      "[====================================================================================================] 100% ETA: 0s    Duration: 0s\n"
     ]
    },
    {
     "data": {
      "text/html": [
       "<div>\n",
       "<style scoped>\n",
       "    .dataframe tbody tr th:only-of-type {\n",
       "        vertical-align: middle;\n",
       "    }\n",
       "\n",
       "    .dataframe tbody tr th {\n",
       "        vertical-align: top;\n",
       "    }\n",
       "\n",
       "    .dataframe thead th {\n",
       "        text-align: right;\n",
       "    }\n",
       "</style>\n",
       "<table border=\"1\" class=\"dataframe\">\n",
       "  <thead>\n",
       "    <tr style=\"text-align: right;\">\n",
       "      <th></th>\n",
       "      <th>Achievable R-Squared</th>\n",
       "      <th>Achievable Log-Likelihood Per Sample</th>\n",
       "      <th>Achievable Accuracy</th>\n",
       "    </tr>\n",
       "  </thead>\n",
       "  <tbody>\n",
       "    <tr>\n",
       "      <th>0</th>\n",
       "      <td>0.75</td>\n",
       "      <td>0.00</td>\n",
       "      <td>1.00</td>\n",
       "    </tr>\n",
       "  </tbody>\n",
       "</table>\n",
       "</div>"
      ],
      "text/plain": [
       "  Achievable R-Squared Achievable Log-Likelihood Per Sample  \\\n",
       "0                 0.75                                 0.00   \n",
       "\n",
       "  Achievable Accuracy  \n",
       "0                1.00  "
      ]
     },
     "execution_count": 4,
     "metadata": {},
     "output_type": "execute_result"
    }
   ],
   "source": [
    "df.kxy.data_valuation(y_column, problem_type=problem_type)"
   ]
  },
  {
   "cell_type": "markdown",
   "metadata": {},
   "source": [
    "## Automatic (Model-Free) Variable Selection"
   ]
  },
  {
   "cell_type": "code",
   "execution_count": 5,
   "metadata": {
    "scrolled": false
   },
   "outputs": [
    {
     "name": "stdout",
     "output_type": "stream",
     "text": [
      "[====================================================================================================] 100% ETA: 0s    Duration: 0s\n"
     ]
    },
    {
     "data": {
      "text/html": [
       "<div>\n",
       "<style scoped>\n",
       "    .dataframe tbody tr th:only-of-type {\n",
       "        vertical-align: middle;\n",
       "    }\n",
       "\n",
       "    .dataframe tbody tr th {\n",
       "        vertical-align: top;\n",
       "    }\n",
       "\n",
       "    .dataframe thead th {\n",
       "        text-align: right;\n",
       "    }\n",
       "</style>\n",
       "<table border=\"1\" class=\"dataframe\">\n",
       "  <thead>\n",
       "    <tr style=\"text-align: right;\">\n",
       "      <th></th>\n",
       "      <th>Variable</th>\n",
       "      <th>Running Achievable R-Squared</th>\n",
       "      <th>Running Achievable Accuracy</th>\n",
       "    </tr>\n",
       "    <tr>\n",
       "      <th>Selection Order</th>\n",
       "      <th></th>\n",
       "      <th></th>\n",
       "      <th></th>\n",
       "    </tr>\n",
       "  </thead>\n",
       "  <tbody>\n",
       "    <tr>\n",
       "      <th>0</th>\n",
       "      <td>No Variable</td>\n",
       "      <td>0.00</td>\n",
       "      <td>0.56</td>\n",
       "    </tr>\n",
       "    <tr>\n",
       "      <th>1</th>\n",
       "      <td>Variance</td>\n",
       "      <td>0.51</td>\n",
       "      <td>0.90</td>\n",
       "    </tr>\n",
       "    <tr>\n",
       "      <th>2</th>\n",
       "      <td>Skewness</td>\n",
       "      <td>0.58</td>\n",
       "      <td>0.93</td>\n",
       "    </tr>\n",
       "    <tr>\n",
       "      <th>3</th>\n",
       "      <td>Kurtosis</td>\n",
       "      <td>0.75</td>\n",
       "      <td>1.00</td>\n",
       "    </tr>\n",
       "    <tr>\n",
       "      <th>4</th>\n",
       "      <td>Entropy</td>\n",
       "      <td>0.75</td>\n",
       "      <td>1.00</td>\n",
       "    </tr>\n",
       "  </tbody>\n",
       "</table>\n",
       "</div>"
      ],
      "text/plain": [
       "                    Variable Running Achievable R-Squared  \\\n",
       "Selection Order                                             \n",
       "0                No Variable                         0.00   \n",
       "1                   Variance                         0.51   \n",
       "2                   Skewness                         0.58   \n",
       "3                   Kurtosis                         0.75   \n",
       "4                    Entropy                         0.75   \n",
       "\n",
       "                Running Achievable Accuracy  \n",
       "Selection Order                              \n",
       "0                                      0.56  \n",
       "1                                      0.90  \n",
       "2                                      0.93  \n",
       "3                                      1.00  \n",
       "4                                      1.00  "
      ]
     },
     "execution_count": 5,
     "metadata": {},
     "output_type": "execute_result"
    }
   ],
   "source": [
    "df.kxy.variable_selection(y_column, problem_type=problem_type)"
   ]
  }
 ],
 "metadata": {
  "kernelspec": {
   "display_name": "kxy",
   "language": "python",
   "name": "kxy"
  },
  "language_info": {
   "codemirror_mode": {
    "name": "ipython",
    "version": 3
   },
   "file_extension": ".py",
   "mimetype": "text/x-python",
   "name": "python",
   "nbconvert_exporter": "python",
   "pygments_lexer": "ipython3",
   "version": "3.7.10"
  }
 },
 "nbformat": 4,
 "nbformat_minor": 4
}
