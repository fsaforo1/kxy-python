{
 "cells": [
  {
   "cell_type": "markdown",
   "metadata": {},
   "source": [
    "# Energy Efficiency (UCI, Regression, n=768, d=8)"
   ]
  },
  {
   "cell_type": "markdown",
   "metadata": {},
   "source": [
    "## Loading The Data"
   ]
  },
  {
   "cell_type": "code",
   "execution_count": 1,
   "metadata": {},
   "outputs": [],
   "source": [
    "from kxy_datasets.uci_regressions import EnergyEfficiency # pip install kxy_datasets"
   ]
  },
  {
   "cell_type": "code",
   "execution_count": 2,
   "metadata": {},
   "outputs": [],
   "source": [
    "dataset = EnergyEfficiency()\n",
    "df = dataset.df # Retrieve the dataset as a pandas dataframe\n",
    "y_column = dataset.y_column # The name of the column corresponding to the target\n",
    "problem_type = dataset.problem_type # 'regression' or 'classification'"
   ]
  },
  {
   "cell_type": "code",
   "execution_count": 3,
   "metadata": {
    "scrolled": false
   },
   "outputs": [
    {
     "name": "stdout",
     "output_type": "stream",
     "text": [
      "         \n",
      "----------\n",
      "Column: X1\n",
      "----------\n",
      "Type:   Continuous\n",
      "Max:    1.0\n",
      "p75:    0.8\n",
      "Mean:   0.8\n",
      "Median: 0.8\n",
      "p25:    0.7\n",
      "Min:    0.6\n",
      "         \n",
      "----------\n",
      "Column: X2\n",
      "----------\n",
      "Type:   Continuous\n",
      "Max:    808\n",
      "p75:    741\n",
      "Mean:   671\n",
      "Median: 673\n",
      "p25:    606\n",
      "Min:    514\n",
      "         \n",
      "----------\n",
      "Column: X3\n",
      "----------\n",
      "Type:   Continuous\n",
      "Max:    416\n",
      "p75:    343\n",
      "Mean:   318\n",
      "Median: 318\n",
      "p25:    294\n",
      "Min:    245\n",
      "         \n",
      "----------\n",
      "Column: X4\n",
      "----------\n",
      "Type:   Continuous\n",
      "Max:    220\n",
      "p75:    220\n",
      "Mean:   176\n",
      "Median: 183\n",
      "p25:    140\n",
      "Min:    110\n",
      "         \n",
      "----------\n",
      "Column: X5\n",
      "----------\n",
      "Type:   Continuous\n",
      "Max:    7.0\n",
      "p75:    7.0\n",
      "Mean:   5.2\n",
      "Median: 5.2\n",
      "p25:    3.5\n",
      "Min:    3.5\n",
      "         \n",
      "----------\n",
      "Column: X6\n",
      "----------\n",
      "Type:   Continuous\n",
      "Max:    5.0\n",
      "p75:    4.2\n",
      "Mean:   3.5\n",
      "Median: 3.5\n",
      "p25:    2.8\n",
      "Min:    2.0\n",
      "         \n",
      "----------\n",
      "Column: X7\n",
      "----------\n",
      "Type:   Continuous\n",
      "Max:    0.4\n",
      "p75:    0.4\n",
      "Mean:   0.2\n",
      "Median: 0.2\n",
      "p25:    0.1\n",
      "Min:    0.0\n",
      "         \n",
      "----------\n",
      "Column: X8\n",
      "----------\n",
      "Type:   Continuous\n",
      "Max:    5.0\n",
      "p75:    4.0\n",
      "Mean:   2.8\n",
      "Median: 3.0\n",
      "p25:    1.8\n",
      "Min:    0.0\n",
      "         \n",
      "----------\n",
      "Column: Y1\n",
      "----------\n",
      "Type:   Continuous\n",
      "Max:    43\n",
      "p75:    31\n",
      "Mean:   22\n",
      "Median: 18\n",
      "p25:    12\n",
      "Min:    6.0\n",
      "         \n",
      "----------\n",
      "Column: Y2\n",
      "----------\n",
      "Type:   Continuous\n",
      "Max:    48\n",
      "p75:    33\n",
      "Mean:   24\n",
      "Median: 22\n",
      "p25:    15\n",
      "Min:    10\n"
     ]
    }
   ],
   "source": [
    "df.kxy.describe() # Visualize a summary of the data"
   ]
  },
  {
   "cell_type": "markdown",
   "metadata": {},
   "source": [
    "## Data Valuation"
   ]
  },
  {
   "cell_type": "code",
   "execution_count": 4,
   "metadata": {},
   "outputs": [
    {
     "name": "stdout",
     "output_type": "stream",
     "text": [
      "[====================================================================================================] 100% ETA: 0s    Duration: 0s\n"
     ]
    },
    {
     "data": {
      "text/html": [
       "<div>\n",
       "<style scoped>\n",
       "    .dataframe tbody tr th:only-of-type {\n",
       "        vertical-align: middle;\n",
       "    }\n",
       "\n",
       "    .dataframe tbody tr th {\n",
       "        vertical-align: top;\n",
       "    }\n",
       "\n",
       "    .dataframe thead th {\n",
       "        text-align: right;\n",
       "    }\n",
       "</style>\n",
       "<table border=\"1\" class=\"dataframe\">\n",
       "  <thead>\n",
       "    <tr style=\"text-align: right;\">\n",
       "      <th></th>\n",
       "      <th>Achievable R-Squared</th>\n",
       "      <th>Achievable Log-Likelihood Per Sample</th>\n",
       "      <th>Achievable RMSE</th>\n",
       "    </tr>\n",
       "  </thead>\n",
       "  <tbody>\n",
       "    <tr>\n",
       "      <th>0</th>\n",
       "      <td>0.98</td>\n",
       "      <td>-1.61</td>\n",
       "      <td>1.35</td>\n",
       "    </tr>\n",
       "  </tbody>\n",
       "</table>\n",
       "</div>"
      ],
      "text/plain": [
       "  Achievable R-Squared Achievable Log-Likelihood Per Sample Achievable RMSE\n",
       "0                 0.98                                -1.61            1.35"
      ]
     },
     "execution_count": 4,
     "metadata": {},
     "output_type": "execute_result"
    }
   ],
   "source": [
    "df.kxy.data_valuation(y_column, problem_type=problem_type)"
   ]
  },
  {
   "cell_type": "markdown",
   "metadata": {},
   "source": [
    "## Automatic (Model-Free) Variable Selection"
   ]
  },
  {
   "cell_type": "code",
   "execution_count": 5,
   "metadata": {
    "scrolled": false
   },
   "outputs": [
    {
     "name": "stdout",
     "output_type": "stream",
     "text": [
      "[====================================================================================================] 100% ETA: 0s    Duration: 0s\n"
     ]
    },
    {
     "data": {
      "text/html": [
       "<div>\n",
       "<style scoped>\n",
       "    .dataframe tbody tr th:only-of-type {\n",
       "        vertical-align: middle;\n",
       "    }\n",
       "\n",
       "    .dataframe tbody tr th {\n",
       "        vertical-align: top;\n",
       "    }\n",
       "\n",
       "    .dataframe thead th {\n",
       "        text-align: right;\n",
       "    }\n",
       "</style>\n",
       "<table border=\"1\" class=\"dataframe\">\n",
       "  <thead>\n",
       "    <tr style=\"text-align: right;\">\n",
       "      <th></th>\n",
       "      <th>Variable</th>\n",
       "      <th>Running Achievable R-Squared</th>\n",
       "      <th>Running Achievable RMSE</th>\n",
       "    </tr>\n",
       "    <tr>\n",
       "      <th>Selection Order</th>\n",
       "      <th></th>\n",
       "      <th></th>\n",
       "      <th></th>\n",
       "    </tr>\n",
       "  </thead>\n",
       "  <tbody>\n",
       "    <tr>\n",
       "      <th>0</th>\n",
       "      <td>No Variable</td>\n",
       "      <td>0.00</td>\n",
       "      <td>1.01e+01</td>\n",
       "    </tr>\n",
       "    <tr>\n",
       "      <th>1</th>\n",
       "      <td>Y2</td>\n",
       "      <td>0.92</td>\n",
       "      <td>2.83</td>\n",
       "    </tr>\n",
       "    <tr>\n",
       "      <th>2</th>\n",
       "      <td>X3</td>\n",
       "      <td>0.98</td>\n",
       "      <td>1.38</td>\n",
       "    </tr>\n",
       "    <tr>\n",
       "      <th>3</th>\n",
       "      <td>X4</td>\n",
       "      <td>0.98</td>\n",
       "      <td>1.38</td>\n",
       "    </tr>\n",
       "    <tr>\n",
       "      <th>4</th>\n",
       "      <td>X7</td>\n",
       "      <td>0.98</td>\n",
       "      <td>1.35</td>\n",
       "    </tr>\n",
       "    <tr>\n",
       "      <th>5</th>\n",
       "      <td>X2</td>\n",
       "      <td>0.98</td>\n",
       "      <td>1.35</td>\n",
       "    </tr>\n",
       "    <tr>\n",
       "      <th>6</th>\n",
       "      <td>X8</td>\n",
       "      <td>0.98</td>\n",
       "      <td>1.35</td>\n",
       "    </tr>\n",
       "    <tr>\n",
       "      <th>7</th>\n",
       "      <td>X6</td>\n",
       "      <td>0.98</td>\n",
       "      <td>1.35</td>\n",
       "    </tr>\n",
       "    <tr>\n",
       "      <th>8</th>\n",
       "      <td>X5</td>\n",
       "      <td>0.98</td>\n",
       "      <td>1.35</td>\n",
       "    </tr>\n",
       "    <tr>\n",
       "      <th>9</th>\n",
       "      <td>X1</td>\n",
       "      <td>0.98</td>\n",
       "      <td>1.35</td>\n",
       "    </tr>\n",
       "  </tbody>\n",
       "</table>\n",
       "</div>"
      ],
      "text/plain": [
       "                    Variable Running Achievable R-Squared  \\\n",
       "Selection Order                                             \n",
       "0                No Variable                         0.00   \n",
       "1                         Y2                         0.92   \n",
       "2                         X3                         0.98   \n",
       "3                         X4                         0.98   \n",
       "4                         X7                         0.98   \n",
       "5                         X2                         0.98   \n",
       "6                         X8                         0.98   \n",
       "7                         X6                         0.98   \n",
       "8                         X5                         0.98   \n",
       "9                         X1                         0.98   \n",
       "\n",
       "                Running Achievable RMSE  \n",
       "Selection Order                          \n",
       "0                              1.01e+01  \n",
       "1                                  2.83  \n",
       "2                                  1.38  \n",
       "3                                  1.38  \n",
       "4                                  1.35  \n",
       "5                                  1.35  \n",
       "6                                  1.35  \n",
       "7                                  1.35  \n",
       "8                                  1.35  \n",
       "9                                  1.35  "
      ]
     },
     "execution_count": 5,
     "metadata": {},
     "output_type": "execute_result"
    }
   ],
   "source": [
    "df.kxy.variable_selection(y_column, problem_type=problem_type)"
   ]
  }
 ],
 "metadata": {
  "kernelspec": {
   "display_name": "kxy",
   "language": "python",
   "name": "kxy"
  },
  "language_info": {
   "codemirror_mode": {
    "name": "ipython",
    "version": 3
   },
   "file_extension": ".py",
   "mimetype": "text/x-python",
   "name": "python",
   "nbconvert_exporter": "python",
   "pygments_lexer": "ipython3",
   "version": "3.7.10"
  }
 },
 "nbformat": 4,
 "nbformat_minor": 4
}
