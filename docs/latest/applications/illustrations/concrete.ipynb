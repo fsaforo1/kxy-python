{
 "cells": [
  {
   "cell_type": "markdown",
   "metadata": {},
   "source": [
    "# Concrete (UCI, Regression, n=1030, d=8)"
   ]
  },
  {
   "cell_type": "markdown",
   "metadata": {},
   "source": [
    "## Loading The Data"
   ]
  },
  {
   "cell_type": "code",
   "execution_count": 1,
   "metadata": {},
   "outputs": [],
   "source": [
    "from kxy_datasets.uci_regressions import Concrete # pip install kxy_datasets"
   ]
  },
  {
   "cell_type": "code",
   "execution_count": 2,
   "metadata": {},
   "outputs": [],
   "source": [
    "dataset = Concrete()\n",
    "df = dataset.df # Retrieve the dataset as a pandas dataframe\n",
    "y_column = dataset.y_column # The name of the column corresponding to the target\n",
    "problem_type = dataset.problem_type # 'regression' or 'classification'"
   ]
  },
  {
   "cell_type": "code",
   "execution_count": 3,
   "metadata": {
    "scrolled": false
   },
   "outputs": [
    {
     "name": "stdout",
     "output_type": "stream",
     "text": [
      "         \n",
      "-----------\n",
      "Column: Age\n",
      "-----------\n",
      "Type:   Continuous\n",
      "Max:    365\n",
      "p75:    56\n",
      "Mean:   45\n",
      "Median: 28\n",
      "p25:    7.0\n",
      "Min:    1.0\n",
      "         \n",
      "--------------------------\n",
      "Column: Blast Furnace Slag\n",
      "--------------------------\n",
      "Type:   Continuous\n",
      "Max:    359\n",
      "p75:    142\n",
      "Mean:   73\n",
      "Median: 22\n",
      "p25:    0.0\n",
      "Min:    0.0\n",
      "         \n",
      "--------------\n",
      "Column: Cement\n",
      "--------------\n",
      "Type:   Continuous\n",
      "Max:    540\n",
      "p75:    350\n",
      "Mean:   281\n",
      "Median: 272\n",
      "p25:    192\n",
      "Min:    102\n",
      "         \n",
      "------------------------\n",
      "Column: Coarse Aggregate\n",
      "------------------------\n",
      "Type:   Continuous\n",
      "Max:    1,145\n",
      "p75:    1,029\n",
      "Mean:   972\n",
      "Median: 968\n",
      "p25:    932\n",
      "Min:    801\n",
      "         \n",
      "-------------------------------------\n",
      "Column: Concrete Compressive Strength\n",
      "-------------------------------------\n",
      "Type:   Continuous\n",
      "Max:    82\n",
      "p75:    46\n",
      "Mean:   35\n",
      "Median: 34\n",
      "p25:    23\n",
      "Min:    2.3\n",
      "         \n",
      "----------------------\n",
      "Column: Fine Aggregate\n",
      "----------------------\n",
      "Type:   Continuous\n",
      "Max:    992\n",
      "p75:    824\n",
      "Mean:   773\n",
      "Median: 779\n",
      "p25:    730\n",
      "Min:    594\n",
      "         \n",
      "---------------\n",
      "Column: Fly Ash\n",
      "---------------\n",
      "Type:   Continuous\n",
      "Max:    200\n",
      "p75:    118\n",
      "Mean:   54\n",
      "Median: 0.0\n",
      "p25:    0.0\n",
      "Min:    0.0\n",
      "         \n",
      "------------------------\n",
      "Column: Superplasticizer\n",
      "------------------------\n",
      "Type:   Continuous\n",
      "Max:    32\n",
      "p75:    10\n",
      "Mean:   6.2\n",
      "Median: 6.3\n",
      "p25:    0.0\n",
      "Min:    0.0\n",
      "         \n",
      "-------------\n",
      "Column: Water\n",
      "-------------\n",
      "Type:   Continuous\n",
      "Max:    247\n",
      "p75:    192\n",
      "Mean:   181\n",
      "Median: 185\n",
      "p25:    164\n",
      "Min:    121\n"
     ]
    }
   ],
   "source": [
    "df.kxy.describe() # Visualize a summary of the data"
   ]
  },
  {
   "cell_type": "markdown",
   "metadata": {},
   "source": [
    "## Data Valuation"
   ]
  },
  {
   "cell_type": "code",
   "execution_count": 4,
   "metadata": {},
   "outputs": [
    {
     "name": "stdout",
     "output_type": "stream",
     "text": [
      "[====================================================================================================] 100% ETA: 0s    Duration: 0s\n"
     ]
    },
    {
     "data": {
      "text/html": [
       "<div>\n",
       "<style scoped>\n",
       "    .dataframe tbody tr th:only-of-type {\n",
       "        vertical-align: middle;\n",
       "    }\n",
       "\n",
       "    .dataframe tbody tr th {\n",
       "        vertical-align: top;\n",
       "    }\n",
       "\n",
       "    .dataframe thead th {\n",
       "        text-align: right;\n",
       "    }\n",
       "</style>\n",
       "<table border=\"1\" class=\"dataframe\">\n",
       "  <thead>\n",
       "    <tr style=\"text-align: right;\">\n",
       "      <th></th>\n",
       "      <th>Achievable R-Squared</th>\n",
       "      <th>Achievable Log-Likelihood Per Sample</th>\n",
       "      <th>Achievable RMSE</th>\n",
       "    </tr>\n",
       "  </thead>\n",
       "  <tbody>\n",
       "    <tr>\n",
       "      <th>0</th>\n",
       "      <td>1.00</td>\n",
       "      <td>-7.98e-01</td>\n",
       "      <td>5.35e-01</td>\n",
       "    </tr>\n",
       "  </tbody>\n",
       "</table>\n",
       "</div>"
      ],
      "text/plain": [
       "  Achievable R-Squared Achievable Log-Likelihood Per Sample Achievable RMSE\n",
       "0                 1.00                            -7.98e-01        5.35e-01"
      ]
     },
     "execution_count": 4,
     "metadata": {},
     "output_type": "execute_result"
    }
   ],
   "source": [
    "df.kxy.data_valuation(y_column, problem_type=problem_type)"
   ]
  },
  {
   "cell_type": "markdown",
   "metadata": {},
   "source": [
    "## Automatic (Model-Free) Variable Selection"
   ]
  },
  {
   "cell_type": "code",
   "execution_count": 5,
   "metadata": {
    "scrolled": false
   },
   "outputs": [
    {
     "name": "stdout",
     "output_type": "stream",
     "text": [
      "[====================================================================================================] 100% ETA: 0s    Duration: 0s\n"
     ]
    },
    {
     "data": {
      "text/html": [
       "<div>\n",
       "<style scoped>\n",
       "    .dataframe tbody tr th:only-of-type {\n",
       "        vertical-align: middle;\n",
       "    }\n",
       "\n",
       "    .dataframe tbody tr th {\n",
       "        vertical-align: top;\n",
       "    }\n",
       "\n",
       "    .dataframe thead th {\n",
       "        text-align: right;\n",
       "    }\n",
       "</style>\n",
       "<table border=\"1\" class=\"dataframe\">\n",
       "  <thead>\n",
       "    <tr style=\"text-align: right;\">\n",
       "      <th></th>\n",
       "      <th>Variable</th>\n",
       "      <th>Running Achievable R-Squared</th>\n",
       "      <th>Running Achievable RMSE</th>\n",
       "    </tr>\n",
       "    <tr>\n",
       "      <th>Selection Order</th>\n",
       "      <th></th>\n",
       "      <th></th>\n",
       "      <th></th>\n",
       "    </tr>\n",
       "  </thead>\n",
       "  <tbody>\n",
       "    <tr>\n",
       "      <th>0</th>\n",
       "      <td>No Variable</td>\n",
       "      <td>0.00</td>\n",
       "      <td>1.67e+01</td>\n",
       "    </tr>\n",
       "    <tr>\n",
       "      <th>1</th>\n",
       "      <td>Age</td>\n",
       "      <td>0.55</td>\n",
       "      <td>1.12e+01</td>\n",
       "    </tr>\n",
       "    <tr>\n",
       "      <th>2</th>\n",
       "      <td>Cement</td>\n",
       "      <td>0.69</td>\n",
       "      <td>9.35</td>\n",
       "    </tr>\n",
       "    <tr>\n",
       "      <th>3</th>\n",
       "      <td>Superplasticizer</td>\n",
       "      <td>0.80</td>\n",
       "      <td>7.49</td>\n",
       "    </tr>\n",
       "    <tr>\n",
       "      <th>4</th>\n",
       "      <td>Blast Furnace Slag</td>\n",
       "      <td>0.85</td>\n",
       "      <td>6.37</td>\n",
       "    </tr>\n",
       "    <tr>\n",
       "      <th>5</th>\n",
       "      <td>Water</td>\n",
       "      <td>0.85</td>\n",
       "      <td>6.37</td>\n",
       "    </tr>\n",
       "    <tr>\n",
       "      <th>6</th>\n",
       "      <td>Fine Aggregate</td>\n",
       "      <td>0.90</td>\n",
       "      <td>5.23</td>\n",
       "    </tr>\n",
       "    <tr>\n",
       "      <th>7</th>\n",
       "      <td>Coarse Aggregate</td>\n",
       "      <td>0.90</td>\n",
       "      <td>5.23</td>\n",
       "    </tr>\n",
       "    <tr>\n",
       "      <th>8</th>\n",
       "      <td>Fly Ash</td>\n",
       "      <td>1.00</td>\n",
       "      <td>0.53</td>\n",
       "    </tr>\n",
       "  </tbody>\n",
       "</table>\n",
       "</div>"
      ],
      "text/plain": [
       "                           Variable Running Achievable R-Squared  \\\n",
       "Selection Order                                                    \n",
       "0                       No Variable                         0.00   \n",
       "1                               Age                         0.55   \n",
       "2                            Cement                         0.69   \n",
       "3                  Superplasticizer                         0.80   \n",
       "4                Blast Furnace Slag                         0.85   \n",
       "5                             Water                         0.85   \n",
       "6                    Fine Aggregate                         0.90   \n",
       "7                  Coarse Aggregate                         0.90   \n",
       "8                           Fly Ash                         1.00   \n",
       "\n",
       "                Running Achievable RMSE  \n",
       "Selection Order                          \n",
       "0                              1.67e+01  \n",
       "1                              1.12e+01  \n",
       "2                                  9.35  \n",
       "3                                  7.49  \n",
       "4                                  6.37  \n",
       "5                                  6.37  \n",
       "6                                  5.23  \n",
       "7                                  5.23  \n",
       "8                                  0.53  "
      ]
     },
     "execution_count": 5,
     "metadata": {},
     "output_type": "execute_result"
    }
   ],
   "source": [
    "df.kxy.variable_selection(y_column, problem_type=problem_type)"
   ]
  }
 ],
 "metadata": {
  "kernelspec": {
   "display_name": "kxy",
   "language": "python",
   "name": "kxy"
  },
  "language_info": {
   "codemirror_mode": {
    "name": "ipython",
    "version": 3
   },
   "file_extension": ".py",
   "mimetype": "text/x-python",
   "name": "python",
   "nbconvert_exporter": "python",
   "pygments_lexer": "ipython3",
   "version": "3.7.10"
  }
 },
 "nbformat": 4,
 "nbformat_minor": 4
}
