{
 "cells": [
  {
   "cell_type": "markdown",
   "metadata": {},
   "source": [
    "\n",
    "Getting Started\n",
    "============\n",
    "\n",
    "Click [here](https://github.com/kxytechnologies/kxy-python/blob/master/docs/latest/quickstart/getting_started.ipynb) to download this page as a Jupyter Notebook.\n",
    "\n",
    "\n",
    "Installation\n",
    "-------------\n",
    "\n",
    "From PyPi:\n",
    "\n",
    "```bash\n",
    "pip install kxy\n",
    "```\n",
    "\n",
    "From GitHub:\n",
    "\n",
    "```bash\n",
    "git clone https://github.com/kxytechnologies/kxy-python.git & cd ./kxy-python & pip install .\n",
    "```\n",
    "\n",
    "The `kxy` package only supports Python 3. Replace ``pip`` by ``pip3`` in the commands above, as needed."
   ]
  },
  {
   "cell_type": "markdown",
   "metadata": {},
   "source": [
    "Authentication\n",
    "-----------------\n",
    "All heavy computations are run on the KxY backend and require an API key. The API key is set by running the command \n",
    "```bash\n",
    "kxy configure\n",
    "```\n",
    "as a one-off, and following the instructions. \n",
    "\n",
    "You may also set your API key as the `KXY_API_KEY` environment variable, for instance by running \n",
    "```bash\n",
    "import os\n",
    "os.environ['KXY_API_KEY'] = '<API Key>'\n",
    "```\n",
    "To get an API key, you need to have an account with us. You can create an account [here](https://www.kxy.ai/signup/). \n",
    "\n",
    "By default, you will start in the free `Starter` plan, and you will be able to experience the KxY backend from the portal for free, and without providing a payment method, by uploading your data as csv files.\n",
    "\n",
    "Once you have an account and are ready to use our API, you can find your API key on the KxY portal [here](https://www.kxy.ai/portal/profile/identity/). \n",
    "\n",
    "API access to our backend is billed on a per-request basis, and requires that you provide a valid payment method in the KxY portal.\n"
   ]
  },
  {
   "cell_type": "markdown",
   "metadata": {},
   "source": [
    "Docker\n",
    "---------\n",
    "The public Docker image [kxytechnologies/kxy](https://hub.docker.com/repository/docker/kxytechnologies/kxy) has been built for your convenience, and comes with anaconda, the kxy package, and various popular machine learning packages (e.g. Tensorflow, XGBoost, LightGBM, scikit-learn, and more).\n",
    "\n",
    "To start a Jupyter Notebook server from a sandboxed Docker, run\n",
    "```bash\n",
    "docker run -i -t -p 5555:8888 kxytechnologies/kxy /bin/bash -c \"kxy configure <YOUR API KEY> && /opt/conda/bin/jupyter notebook --notebook-dir=/opt/notebooks --ip='*' --port=8888 --no-browser --allow-root --NotebookApp.token=''\"\n",
    "```\n",
    "where you should replace `<YOUR API KEY>` with your API key and navigate to [http://localhost:5555](http://localhost:5555) in your browser.\n",
    "\n",
    "To start a Jupyter Notebook server from an existing directory of notebooks, run\n",
    "```bash\n",
    "docker run -i -t --mount src=</path/to/your/local/dir>,target=/opt/notebooks,type=bind -p 5555:8888 kxytechnologies/kxy /bin/bash -c \"kxy configure <YOUR API KEY> && /opt/conda/bin/jupyter notebook --notebook-dir=/opt/notebooks --ip='*' --port=8888 --no-browser --allow-root --NotebookApp.token=''\"\n",
    "```\n",
    "where you should replace `</path/to/your/local/dir>` with the path to your local notebook folder and navigate to [http://localhost:5555](http://localhost:5555) in your browser."
   ]
  },
  {
   "cell_type": "markdown",
   "metadata": {},
   "source": [
    "Serverless Applications\n",
    "----------------------------\n",
    "For serverless applications running on AWS, we provide a `kxy` [AWS Lambda layer](https://docs.aws.amazon.com/lambda/latest/dg/configuration-layers.html) so that you may simply import the `kxy` package from within your AWS Python 3 lambda functions. \n",
    "\n",
    "No additional requirement is needed, other than specifying your API key as the environment variable `KXY_API_KEY`."
   ]
  },
  {
   "cell_type": "markdown",
   "metadata": {},
   "source": [
    "Working with Pandas DataFrames\n",
    "----------------------------------------\n"
   ]
  },
  {
   "cell_type": "markdown",
   "metadata": {},
   "source": [
    "The most convenient way of using the `kxy` package is through pandas DataFrame objects. All our analyses are available as methods of pandas DataFrame objects, under the `kxy` [accessor](https://pandas.pydata.org/pandas-docs/stable/development/extending.html) (i.e. as `df.kxy.<method_name>`). To access these, all you need is to import the `kxy` package alongside `pandas`."
   ]
  },
  {
   "cell_type": "code",
   "execution_count": 1,
   "metadata": {},
   "outputs": [],
   "source": [
    "import pandas as pd\n",
    "import kxy"
   ]
  },
  {
   "cell_type": "markdown",
   "metadata": {},
   "source": [
    "Checkout the [Examples](https://www.kxy.ai/reference/latest/examples/) section for tutorials with code snippets."
   ]
  },
  {
   "cell_type": "markdown",
   "metadata": {},
   "source": [
    "Working with the Low Level RESTFul API\n",
    "------------------------------------------------\n",
    "\n",
    "To directly access our serverless compute infrastructure through its RESTFul API take a look at our [RESTFul API documentation page](https://www.kxy.ai/reference/latest/api/index.html)."
   ]
  }
 ],
 "metadata": {
  "kernelspec": {
   "display_name": "kxy",
   "language": "python",
   "name": "kxy"
  },
  "language_info": {
   "codemirror_mode": {
    "name": "ipython",
    "version": 3
   },
   "file_extension": ".py",
   "mimetype": "text/x-python",
   "name": "python",
   "nbconvert_exporter": "python",
   "pygments_lexer": "ipython3",
   "version": "3.7.7"
  }
 },
 "nbformat": 4,
 "nbformat_minor": 4
}
