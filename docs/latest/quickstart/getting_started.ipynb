{
 "cells": [
  {
   "cell_type": "markdown",
   "metadata": {},
   "source": [
    "\n",
    "Getting Started\n",
    "============\n",
    "\n",
    "Click [here](https://github.com/kxytechnologies/kxy-python/blob/master/docs/latest/quickstart/getting_started.ipynb) to download this page as a Jupyter Notebook.\n",
    "\n",
    "\n",
    "Installation\n",
    "-------------\n",
    "\n",
    "From PyPi:\n",
    "\n",
    "```bash\n",
    "pip install kxy\n",
    "```\n",
    "\n",
    "From GitHub:\n",
    "\n",
    "```bash\n",
    "git clone https://github.com/kxytechnologies/kxy-python.git & cd ./kxy-python & pip install .\n",
    "```\n",
    "\n",
    "The `kxy` package only supports Python 3. Replace ``pip`` by ``pip3`` in the commands above, as needed."
   ]
  },
  {
   "cell_type": "markdown",
   "metadata": {},
   "source": [
    "Authentication\n",
    "-----------------\n",
    "All heavy-duty computations, including but not limited to solving any **maximum-entropy optimization problem**, are run on our serverless infrastructure and require an API key. The API key is set by running the command \n",
    "```bash\n",
    "kxy configure\n",
    "```\n",
    "as a one-off, and following the instructions.\n",
    "\n",
    "To get an API key, you need to have an account with us. You can create a free trial account [here](https://www.kxy.ai/signup/). Once you have an account, you can find your API key on the KxY portal [here](https://www.kxy.ai/portal/profile/identity/)."
   ]
  },
  {
   "cell_type": "markdown",
   "metadata": {},
   "source": [
    "Docker\n",
    "---------\n",
    "The public Docker image [kxytechnologies/kxy](https://hub.docker.com/repository/docker/kxytechnologies/kxy) has been built for your convenience, and comes with anaconda, auto-sklearn, and the kxy package.\n",
    "\n",
    "To start a Jupyter Notebook server from a sandboxed Docker, run\n",
    "```bash\n",
    "docker run -i -t -p 5555:8888 kxytechnologies/kxy /bin/bash -c \"kxy configure <YOUR API KEY> && /opt/conda/bin/jupyter notebook --notebook-dir=/opt/notebooks --ip='*' --port=8888 --no-browser --allow-root --NotebookApp.token=''\"\n",
    "```\n",
    "where you should replace `<YOUR API KEY>` with your API key and navigate to [http://localhost:5555](http://localhost:5555) in your browser.\n",
    "\n",
    "To start a Jupyter Notebook server from an existing directory of notebooks, run\n",
    "```bash\n",
    "docker run -i -t --mount src=</path/to/your/local/dir>,target=/opt/notebooks,type=bind -p 5555:8888 kxytechnologies/kxy /bin/bash -c \"kxy configure <YOUR API KEY> && /opt/conda/bin/jupyter notebook --notebook-dir=/opt/notebooks --ip='*' --port=8888 --no-browser --allow-root --NotebookApp.token=''\"\n",
    "```\n",
    "where you should replace `</path/to/your/local/dir>` with the path to your local notebook folder and navigate to [http://localhost:5555](http://localhost:5555) in your browser."
   ]
  },
  {
   "cell_type": "markdown",
   "metadata": {},
   "source": [
    "Working with Pandas DataFrames\n",
    "----------------------------------------\n"
   ]
  },
  {
   "cell_type": "markdown",
   "metadata": {},
   "source": [
    "The most convenient way of using the `kxy` package is through pandas DataFrame objects. All our analyses are available as methods of pandas DataFrame objects, under the `kxy` [accessor](https://pandas.pydata.org/pandas-docs/stable/development/extending.html) (i.e. as `df.kxy.<method_name>`). To access these, all you need is to import the `kxy` package alongside `pandas`."
   ]
  },
  {
   "cell_type": "code",
   "execution_count": 1,
   "metadata": {},
   "outputs": [],
   "source": [
    "import pandas as pd\n",
    "import kxy"
   ]
  },
  {
   "cell_type": "markdown",
   "metadata": {},
   "source": [
    "Checkout the [Examples](https://www.kxy.ai/reference/latest/examples/) section for tutorials with code snippets."
   ]
  },
  {
   "cell_type": "markdown",
   "metadata": {},
   "source": [
    "Working with Numpy Arrays\n",
    "---------------------------------\n",
    "If you prefer working with numpy arrays, you might want to familiarize yourself with methods in the lower level namespaces \n",
    "\n",
    "* [kxy.api.core.entropy](https://www.kxy.ai/reference/latest/estimation/entropy/index.html)\n",
    "* [kxy.api.core.mutual_information](https://www.kxy.ai/reference/latest/estimation/mutual_information/index.html)\n",
    "\n",
    "and/or the higher level namespaces\n",
    "\n",
    "* [kxy.asset_management](https://www.kxy.ai/reference/latest/asset_management/index.html)\n",
    "* [kxy.classification](https://www.kxy.ai/reference/latest/classification/index.html)\n",
    "* [kxy.regression](https://www.kxy.ai/reference/latest/regression/index.html)\n",
    "\n",
    "depending on your usecase.\n"
   ]
  },
  {
   "cell_type": "markdown",
   "metadata": {},
   "source": [
    "Working with the Low Level RESTFul API\n",
    "------------------------------------------------\n",
    "\n",
    "To directly access our serverless compute infrastructure through its RESTFul API take a look at `kxy.api.client.APIClient`."
   ]
  }
 ],
 "metadata": {
  "kernelspec": {
   "display_name": "kxy",
   "language": "python",
   "name": "kxy"
  },
  "language_info": {
   "codemirror_mode": {
    "name": "ipython",
    "version": 3
   },
   "file_extension": ".py",
   "mimetype": "text/x-python",
   "name": "python",
   "nbconvert_exporter": "python",
   "pygments_lexer": "ipython3",
   "version": "3.7.7"
  }
 },
 "nbformat": 4,
 "nbformat_minor": 4
}
